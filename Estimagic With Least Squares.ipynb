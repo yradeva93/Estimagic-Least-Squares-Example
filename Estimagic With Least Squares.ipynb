{
 "cells": [
  {
   "cell_type": "markdown",
   "id": "three-pennsylvania",
   "metadata": {},
   "source": [
    "# Estimagic with SciPy's `least_squares`\n",
    "\n",
    "This is the accompanying documentation to the Pull Request adding the scipy [least_squares](https://docs.scipy.org/doc/scipy/reference/generated/scipy.optimize.least_squares.html) to [estimagic](https://github.com/OpenSourceEconomics/estimagic).\n",
    "\n"
   ]
  },
  {
   "cell_type": "markdown",
   "id": "natural-journal",
   "metadata": {},
   "source": [
    "## Table of Contents:\n",
    "1. Project Goals\n",
    "2. Modification Process\n",
    "3. Underlying Algorithms \n",
    "4. Examples\n",
    "5. Comparison"
   ]
  },
  {
   "cell_type": "markdown",
   "id": "lasting-daily",
   "metadata": {},
   "source": [
    "## 1. Project Goals\n",
    "This project adds new internal optimizers to the estimagic library for nonlinear optimization.\n",
    "\n",
    "### 1.1 estimagic\n",
    "[estimagic](https://github.com/OpenSourceEconomics/estimagic) is a Python package that provides tools for nonlinear optimization, numerical differentiation and statistical inference to fit large scale empirical models to data and make inferences about the estimated model parameters. It is well suited to solving difficult constrained optimization problems.\n",
    "\n",
    "The full documentation can be accessed [here](https://estimagic.readthedocs.io/en/latest/#).\n",
    "\n",
    "### 1.2 Contribution\n",
    "estimagic provides a large collection of [internal optimizers](https://estimagic.readthedocs.io/en/latest/explanations/optimization/internal_optimizers.html). \n",
    "This project adds two least square algorithms as internal optimizers.\n",
    "These two new optimizers are based on scipy's `least_squares` implementation, see [scipy.optimize.least_squares](https://docs.scipy.org/doc/scipy/reference/generated/scipy.optimize.least_squares.html#r20fc1df64af7-stir).\n",
    "\n",
    "A third possible scipy `least_squares` optimizer, based on the Levenberg-Marquardt algorithm, was not included. It's inabillity to handle bounds or constraints as well as the fact that it requires the number of residuals and number of variables to be equal does not make it a good fit for estimagic's internal optimizer structure.\n",
    "\n",
    "The added optimizers:\n",
    "* `scipy_ls_trf`\n",
    "* `scipy_ls_dogbox`\n",
    "\n",
    "will be explained and tested within this notebook."
   ]
  },
  {
   "cell_type": "markdown",
   "id": "south-death",
   "metadata": {},
   "source": [
    "## 2. Modification Process\n",
    "Almost all modifications were done in the file `estimagic/optimization/scipy_optimizers.py`.\n",
    "Adding the optimizers was done in the following steps:\n",
    "\n",
    "1. Add a function `scipy_least_squares`, with the different algorithms (trf and dogbox) as parameters. Later this API was changed (see below).\n",
    "2. Add the function to the test suite, by marking it as imprecise (i.e. adding it to `IMPRECISE_ALGOS` and `is_least_sqaures` lists).\n",
    "3. Add relevant parameters to the function and supply them to the underlying `scipy_least_squares` function.\n",
    "4. Wonder for multiple hours, why `tox` throws errors. Find out that it is because `petsc` Gitlab link was broken.\n",
    "5. Fix the `petsc` link in the documentation.\n",
    "6. Change the API to one internal function `_scipy_least_squares` and two front facing functions `scipy_ls_trf` and `scipy_ls_dogbox`. This was done to better fit into the estimagic internal structure.\n",
    "7. Remove support for the `lm` (Levenberg-Marquardt) method. See section 1.2 for rational.\n",
    "8. Align tests to points 6. and 7.\n",
    "9. Write documentation."
   ]
  },
  {
   "cell_type": "markdown",
   "id": "biblical-houston",
   "metadata": {},
   "source": [
    "## 3. Underlying Algorithms\n",
    "The `scipy.optimize.least_sqaures` solves a nonlinear least-squares problem with bounds on the variables. \n",
    "\n",
    "Internally, it uses three algorithms: \n",
    "\n",
    "1. Trust Region Reflective Method (trf)\n",
    "2. DogBox Method (dogbox)\n",
    "3. Levenberg-Marquardt Method \n",
    "\n",
    "As Levenberg-Marquardt was not included, the next sections will only introduce the trf and dogbox methods.\n",
    "This descriptions of the algorithms are heavily based on the [excellent scipy documentation](https://docs.scipy.org/doc/scipy/reference/generated/scipy.optimize.least_squares.html#id7)."
   ]
  },
  {
   "cell_type": "markdown",
   "id": "vertical-tradition",
   "metadata": {},
   "source": [
    "### 3.1. Trust Region Reflective `scipy_ls_trf`\n",
    "\n",
    "\n",
    "Method ‘trf’ (Trust Region Reflective) is motivated by the process of solving a system of equations, which constitute the first-order optimality condition for a bound-constrained minimization problem as formulated in [STIR](https://epubs.siam.org/doi/10.1137/S1064827595289108). The algorithm iteratively solves trust-region subproblems augmented by a special diagonal quadratic term and with a trust-region shape determined by the distance from the bounds and the direction of the gradient. These enhancements help to avoid making steps directly into the bounds and efficiently explore the whole space of variables. To further improve convergence, the algorithm considers search directions reflected from the bounds. Trust-region subproblems with dense Jacobians are solved by an exact method. A singular value decomposition of the Jacobian is done once per iteration. For large sparse Jacobians a 2-D subspace approach of solving trust-region subproblems is used [STIR](https://epubs.siam.org/doi/10.1137/S1064827595289108), [Byrd](https://link.springer.com/article/10.1007/BF01580735). The subspace is spanned by a scaled gradient and an approximate Gauss-Newton solution is delivered. \n",
    "The algorithm works quite robust in unbounded and bounded problems."
   ]
  },
  {
   "cell_type": "markdown",
   "id": "starting-creek",
   "metadata": {},
   "source": [
    "### 3.2. DogBox `scipy_ls_dogbox`\n",
    "Method ‘dogbox’ operates in a trust-region framework, but considers rectangular trust regions as opposed to conventional ellipsoids [Voglis](http://www.cs.uoi.gr/~lagaris/papers/PREPRINTS/dogbox.pdf). The intersection of a current trust region and initial bounds is again rectangular, so on each iteration a quadratic minimization problem subject to bound constraints is solved approximately by Powell’s dogleg method [NumOpt](https://link.springer.com/book/10.1007/978-0-387-40065-5). The required Gauss-Newton step can be computed exactly for dense Jacobians or approximately for large sparse Jacobians. The algorithm is likely to exhibit slow convergence rates when the rank of the Jacobian is less than the number of variables. \n",
    "The algorithm often outperforms ‘trf’ in bounded problems with a small number of variables."
   ]
  },
  {
   "cell_type": "markdown",
   "id": "wired-cleaners",
   "metadata": {},
   "source": [
    "### 3.3. Trust Region Methods\n",
    "Both methods above fall in the category of trust region optimization methods. In general, these algorithms are iterative procedures in which the objective function $f(x)$ is represented by a quadratic model within a trust region. A trust region is a suitable neigborhood of the current iterate, as implied by the Taylor series approximation, such that at its $k^{th}$ iteration, $f(x)$ can be written as:\n",
    "\n",
    "\\begin{align*}\n",
    "f(x_{k}+s) \\approx m_{k}(s) = f(x_{k})+g_{k}^{T}s + \\frac{1}{2}s^{T}B_{k}s\n",
    "\\end{align*}\n",
    "\n",
    "where $g_{k}= \\nabla f(x_{k})$ and $B_{k}$ is a symmetric approximation of $\\nabla^{2} f(x_{k})$. Then the trust region is defined as:\n",
    "\n",
    "\\begin{align*}\n",
    "T_{k} = \\{x \\in \\mathfrak{R}^{n}|\\, ||x - x_{k}|| \\leq \\Delta_{k} \\}\n",
    "\\end{align*}\n",
    "\n",
    "Different choices of the norm will lead to different shapes of the trust region. \n",
    "Given the model and the trust region, a step $s_{k} \\leq \\Delta_{k} $ is chosen such that the model is sufficiently reduced in value. Using this step, compare the reduction in the model to that in the objective function. If they agree to a certain extend,\n",
    "the step is accepted and the trust region is either expanded or remains the same. Otherwise, the step is rejected and the trust region is contracted.\n",
    "\n",
    "The very basic trust region algorithm can be seen below:\n",
    "\n",
    "* S0: Set $k=0$ and pick the initial point and and trust region parameter $x_{0}$ and $\\Delta_{0}$\n",
    "* S1: Construct a quadratic model: $f(x_{k}+s) \\approx m_{k}(s)$\n",
    "* S2: Calculate $s_{k}$ such that $||s_{k}|| \\leq \\Delta_{k}$ to sufficiently reduce $m_{k}$\n",
    "* S3: Calculate the ratio of actual to expected reduction $r_{k} = \\frac{f(x_{k}) - f(x_{k} + s_{k})}{m_{k}(0) - m_{k}(s)}$. Accept the step or not, according to $r_{k}$ and update $\\Delta_{k}$.\n",
    "* S4: Increment $k \\leftarrow k+1$ and repeat from S1."
   ]
  },
  {
   "cell_type": "markdown",
   "id": "informed-behalf",
   "metadata": {},
   "source": [
    "## 4. Examples"
   ]
  },
  {
   "cell_type": "code",
   "execution_count": 1,
   "id": "german-continuity",
   "metadata": {},
   "outputs": [
    {
     "name": "stderr",
     "output_type": "stream",
     "text": [
      "/home/yana/PycharmProjects/estimagic/venv/lib/python3.9/site-packages/fuzzywuzzy/fuzz.py:11: UserWarning: Using slow pure-python SequenceMatcher. Install python-Levenshtein to remove this warning\n",
      "  warnings.warn('Using slow pure-python SequenceMatcher. Install python-Levenshtein to remove this warning')\n"
     ]
    }
   ],
   "source": [
    "import numpy as np\n",
    "import pandas as pd\n",
    "from estimagic import minimize\n",
    "from estimagic.logging.read_log import read_optimization_iteration"
   ]
  },
  {
   "cell_type": "markdown",
   "id": "transsexual-muslim",
   "metadata": {},
   "source": [
    "### 4.1. Sphere Example\n",
    "To show that the optimizers work within estimagic, I've included the [Sphere Example](https://estimagic.readthedocs.io/en/latest/getting_started/first_optimization_with_estimagic.html) already used in the documentation. In the current example, the `scipy_ls_trf` optimizer is showcased. In Section 5, a comparison with `scipy_ls_dogbox` and other optimizers from estimagic is presented.\n"
   ]
  },
  {
   "cell_type": "markdown",
   "id": "documentary-cabinet",
   "metadata": {},
   "source": [
    "### The Sphere Function\n",
    "The Sphere function takes the form:\n",
    "\\begin{align*}\n",
    "f(x) = \\sum_{i=1}^d {x_{i}^2}\n",
    "\\end{align*}\n",
    "where $d$ denotes the dimension. It is continuous, convex and unimodal. The unique local and global optimum of this function is at the zero vector."
   ]
  },
  {
   "cell_type": "code",
   "execution_count": 2,
   "id": "enhanced-somerset",
   "metadata": {},
   "outputs": [],
   "source": [
    "def sphere(params):\n",
    "    \"\"\"Spherical criterion function.\n",
    "\n",
    "    The unique local and global optimum of this function is at\n",
    "    the zero vector. It is differentiable, convex and extremely\n",
    "    well behaved in any possible sense.\n",
    "\n",
    "    Args:\n",
    "        params (pandas.DataFrame): DataFrame with the columns\n",
    "            \"value\", \"lower_bound\", \"upper_bound\" and potentially more.\n",
    "\n",
    "    Returns:\n",
    "        dict: A dictionary with the entries \"value\" and \"root_contributions\".\n",
    "\n",
    "    \"\"\"\n",
    "    out = {\n",
    "        \"value\": (params[\"value\"] ** 2).sum(),\n",
    "        \"root_contributions\": params[\"value\"],\n",
    "    }\n",
    "    return out\n",
    "\n",
    "\n",
    "def sphere_gradient(params):\n",
    "    \"\"\"Gradient of spherical criterion function\"\"\"\n",
    "    return params[\"value\"] * 2"
   ]
  },
  {
   "cell_type": "markdown",
   "id": "classical-litigation",
   "metadata": {},
   "source": [
    "Setting up start parameters:"
   ]
  },
  {
   "cell_type": "code",
   "execution_count": 3,
   "id": "casual-clothing",
   "metadata": {},
   "outputs": [],
   "source": [
    "start_params = pd.DataFrame(\n",
    "    data=np.arange(5) + 1,\n",
    "    columns=[\"value\"],\n",
    "    index=[f\"x_{i}\" for i in range(5)],\n",
    ")"
   ]
  },
  {
   "cell_type": "markdown",
   "id": "hourly-digest",
   "metadata": {},
   "source": [
    "Setting up parameters with bounds:"
   ]
  },
  {
   "cell_type": "code",
   "execution_count": 4,
   "id": "dynamic-threshold",
   "metadata": {},
   "outputs": [],
   "source": [
    "params_with_bounds = start_params.copy()\n",
    "\n",
    "params_with_bounds[\"lower_bound\"] = [0, 1, 0, -1, 0]\n",
    "params_with_bounds[\"upper_bound\"] = [np.inf] * 5"
   ]
  },
  {
   "cell_type": "markdown",
   "id": "compound-consumption",
   "metadata": {},
   "source": [
    "Run an optimization using the algorithm `scipy_ls_trf` and the parameters without bounds:"
   ]
  },
  {
   "cell_type": "code",
   "execution_count": 5,
   "id": "peaceful-joshua",
   "metadata": {},
   "outputs": [
    {
     "data": {
      "text/html": [
       "<div>\n",
       "<style scoped>\n",
       "    .dataframe tbody tr th:only-of-type {\n",
       "        vertical-align: middle;\n",
       "    }\n",
       "\n",
       "    .dataframe tbody tr th {\n",
       "        vertical-align: top;\n",
       "    }\n",
       "\n",
       "    .dataframe thead th {\n",
       "        text-align: right;\n",
       "    }\n",
       "</style>\n",
       "<table border=\"1\" class=\"dataframe\">\n",
       "  <thead>\n",
       "    <tr style=\"text-align: right;\">\n",
       "      <th></th>\n",
       "      <th>lower_bound</th>\n",
       "      <th>upper_bound</th>\n",
       "      <th>value</th>\n",
       "    </tr>\n",
       "  </thead>\n",
       "  <tbody>\n",
       "    <tr>\n",
       "      <th>x_0</th>\n",
       "      <td>-inf</td>\n",
       "      <td>inf</td>\n",
       "      <td>0.0</td>\n",
       "    </tr>\n",
       "    <tr>\n",
       "      <th>x_1</th>\n",
       "      <td>-inf</td>\n",
       "      <td>inf</td>\n",
       "      <td>0.0</td>\n",
       "    </tr>\n",
       "    <tr>\n",
       "      <th>x_2</th>\n",
       "      <td>-inf</td>\n",
       "      <td>inf</td>\n",
       "      <td>0.0</td>\n",
       "    </tr>\n",
       "    <tr>\n",
       "      <th>x_3</th>\n",
       "      <td>-inf</td>\n",
       "      <td>inf</td>\n",
       "      <td>0.0</td>\n",
       "    </tr>\n",
       "    <tr>\n",
       "      <th>x_4</th>\n",
       "      <td>-inf</td>\n",
       "      <td>inf</td>\n",
       "      <td>0.0</td>\n",
       "    </tr>\n",
       "  </tbody>\n",
       "</table>\n",
       "</div>"
      ],
      "text/plain": [
       "     lower_bound  upper_bound  value\n",
       "x_0         -inf          inf    0.0\n",
       "x_1         -inf          inf    0.0\n",
       "x_2         -inf          inf    0.0\n",
       "x_3         -inf          inf    0.0\n",
       "x_4         -inf          inf    0.0"
      ]
     },
     "execution_count": 5,
     "metadata": {},
     "output_type": "execute_result"
    }
   ],
   "source": [
    "# Without bounds\n",
    "res = minimize(\n",
    "    criterion=sphere,\n",
    "    params=start_params,\n",
    "    algorithm=\"scipy_ls_trf\",\n",
    "    derivative=sphere_gradient\n",
    ")\n",
    "res[\"solution_params\"].round(2)"
   ]
  },
  {
   "cell_type": "markdown",
   "id": "perfect-rugby",
   "metadata": {},
   "source": [
    "Run an optimization using the algorithm `scipy_ls_trf` and the parameters with bounds:"
   ]
  },
  {
   "cell_type": "code",
   "execution_count": 6,
   "id": "legislative-hartford",
   "metadata": {},
   "outputs": [
    {
     "data": {
      "text/html": [
       "<div>\n",
       "<style scoped>\n",
       "    .dataframe tbody tr th:only-of-type {\n",
       "        vertical-align: middle;\n",
       "    }\n",
       "\n",
       "    .dataframe tbody tr th {\n",
       "        vertical-align: top;\n",
       "    }\n",
       "\n",
       "    .dataframe thead th {\n",
       "        text-align: right;\n",
       "    }\n",
       "</style>\n",
       "<table border=\"1\" class=\"dataframe\">\n",
       "  <thead>\n",
       "    <tr style=\"text-align: right;\">\n",
       "      <th></th>\n",
       "      <th>lower_bound</th>\n",
       "      <th>upper_bound</th>\n",
       "      <th>value</th>\n",
       "    </tr>\n",
       "  </thead>\n",
       "  <tbody>\n",
       "    <tr>\n",
       "      <th>x_0</th>\n",
       "      <td>0.0</td>\n",
       "      <td>inf</td>\n",
       "      <td>0.0</td>\n",
       "    </tr>\n",
       "    <tr>\n",
       "      <th>x_1</th>\n",
       "      <td>1.0</td>\n",
       "      <td>inf</td>\n",
       "      <td>1.0</td>\n",
       "    </tr>\n",
       "    <tr>\n",
       "      <th>x_2</th>\n",
       "      <td>0.0</td>\n",
       "      <td>inf</td>\n",
       "      <td>0.0</td>\n",
       "    </tr>\n",
       "    <tr>\n",
       "      <th>x_3</th>\n",
       "      <td>-1.0</td>\n",
       "      <td>inf</td>\n",
       "      <td>-0.0</td>\n",
       "    </tr>\n",
       "    <tr>\n",
       "      <th>x_4</th>\n",
       "      <td>0.0</td>\n",
       "      <td>inf</td>\n",
       "      <td>0.0</td>\n",
       "    </tr>\n",
       "  </tbody>\n",
       "</table>\n",
       "</div>"
      ],
      "text/plain": [
       "     lower_bound  upper_bound  value\n",
       "x_0          0.0          inf    0.0\n",
       "x_1          1.0          inf    1.0\n",
       "x_2          0.0          inf    0.0\n",
       "x_3         -1.0          inf   -0.0\n",
       "x_4          0.0          inf    0.0"
      ]
     },
     "execution_count": 6,
     "metadata": {},
     "output_type": "execute_result"
    }
   ],
   "source": [
    "# With bounds\n",
    "res = minimize(\n",
    "    criterion=sphere,\n",
    "    params=params_with_bounds,\n",
    "    algorithm=\"scipy_ls_trf\",\n",
    "    derivative=sphere_gradient\n",
    ")\n",
    "res[\"solution_params\"].round(2)"
   ]
  },
  {
   "cell_type": "markdown",
   "id": "wireless-lightweight",
   "metadata": {},
   "source": [
    "Now let's add constraints:"
   ]
  },
  {
   "cell_type": "code",
   "execution_count": 7,
   "id": "valued-latvia",
   "metadata": {},
   "outputs": [],
   "source": [
    "# Add constraints on x_0 and x_3\n",
    "constraints = [{\"loc\": [\"x_0\", \"x_3\"], \"type\": \"fixed\", \"value\": [1, 4]}]"
   ]
  },
  {
   "cell_type": "code",
   "execution_count": 8,
   "id": "innocent-backing",
   "metadata": {},
   "outputs": [
    {
     "data": {
      "text/html": [
       "<div>\n",
       "<style scoped>\n",
       "    .dataframe tbody tr th:only-of-type {\n",
       "        vertical-align: middle;\n",
       "    }\n",
       "\n",
       "    .dataframe tbody tr th {\n",
       "        vertical-align: top;\n",
       "    }\n",
       "\n",
       "    .dataframe thead th {\n",
       "        text-align: right;\n",
       "    }\n",
       "</style>\n",
       "<table border=\"1\" class=\"dataframe\">\n",
       "  <thead>\n",
       "    <tr style=\"text-align: right;\">\n",
       "      <th></th>\n",
       "      <th>lower_bound</th>\n",
       "      <th>upper_bound</th>\n",
       "      <th>value</th>\n",
       "    </tr>\n",
       "  </thead>\n",
       "  <tbody>\n",
       "    <tr>\n",
       "      <th>x_0</th>\n",
       "      <td>0.0</td>\n",
       "      <td>inf</td>\n",
       "      <td>1.0</td>\n",
       "    </tr>\n",
       "    <tr>\n",
       "      <th>x_1</th>\n",
       "      <td>1.0</td>\n",
       "      <td>inf</td>\n",
       "      <td>1.0</td>\n",
       "    </tr>\n",
       "    <tr>\n",
       "      <th>x_2</th>\n",
       "      <td>0.0</td>\n",
       "      <td>inf</td>\n",
       "      <td>0.0</td>\n",
       "    </tr>\n",
       "    <tr>\n",
       "      <th>x_3</th>\n",
       "      <td>-1.0</td>\n",
       "      <td>inf</td>\n",
       "      <td>4.0</td>\n",
       "    </tr>\n",
       "    <tr>\n",
       "      <th>x_4</th>\n",
       "      <td>0.0</td>\n",
       "      <td>inf</td>\n",
       "      <td>0.0</td>\n",
       "    </tr>\n",
       "  </tbody>\n",
       "</table>\n",
       "</div>"
      ],
      "text/plain": [
       "     lower_bound  upper_bound  value\n",
       "x_0          0.0          inf    1.0\n",
       "x_1          1.0          inf    1.0\n",
       "x_2          0.0          inf    0.0\n",
       "x_3         -1.0          inf    4.0\n",
       "x_4          0.0          inf    0.0"
      ]
     },
     "execution_count": 8,
     "metadata": {},
     "output_type": "execute_result"
    }
   ],
   "source": [
    "# With bounds and constraints\n",
    "res = minimize(\n",
    "    criterion=sphere,\n",
    "    params=params_with_bounds,\n",
    "    algorithm=\"scipy_ls_trf\",\n",
    "    derivative=sphere_gradient,\n",
    "    constraints=constraints,\n",
    ")\n",
    "res[\"solution_params\"].round(2)"
   ]
  },
  {
   "cell_type": "markdown",
   "id": "disciplinary-rebel",
   "metadata": {},
   "source": [
    "The included `scipy_ls_trf` optimizer takes arguments (see documentation).\n",
    "This example sets the method for solving trust-region subproblems `tr_solver` to `exact`. This solver is suitable for not very large problems with a dense Jacobian. The computational complexity per iteration is comparable to a singular value composition of the Jacobian."
   ]
  },
  {
   "cell_type": "code",
   "execution_count": 9,
   "id": "mounted-college",
   "metadata": {},
   "outputs": [
    {
     "data": {
      "text/html": [
       "<div>\n",
       "<style scoped>\n",
       "    .dataframe tbody tr th:only-of-type {\n",
       "        vertical-align: middle;\n",
       "    }\n",
       "\n",
       "    .dataframe tbody tr th {\n",
       "        vertical-align: top;\n",
       "    }\n",
       "\n",
       "    .dataframe thead th {\n",
       "        text-align: right;\n",
       "    }\n",
       "</style>\n",
       "<table border=\"1\" class=\"dataframe\">\n",
       "  <thead>\n",
       "    <tr style=\"text-align: right;\">\n",
       "      <th></th>\n",
       "      <th>lower_bound</th>\n",
       "      <th>upper_bound</th>\n",
       "      <th>value</th>\n",
       "    </tr>\n",
       "  </thead>\n",
       "  <tbody>\n",
       "    <tr>\n",
       "      <th>x_0</th>\n",
       "      <td>-inf</td>\n",
       "      <td>inf</td>\n",
       "      <td>0.0</td>\n",
       "    </tr>\n",
       "    <tr>\n",
       "      <th>x_1</th>\n",
       "      <td>-inf</td>\n",
       "      <td>inf</td>\n",
       "      <td>0.0</td>\n",
       "    </tr>\n",
       "    <tr>\n",
       "      <th>x_2</th>\n",
       "      <td>-inf</td>\n",
       "      <td>inf</td>\n",
       "      <td>0.0</td>\n",
       "    </tr>\n",
       "    <tr>\n",
       "      <th>x_3</th>\n",
       "      <td>-inf</td>\n",
       "      <td>inf</td>\n",
       "      <td>0.0</td>\n",
       "    </tr>\n",
       "    <tr>\n",
       "      <th>x_4</th>\n",
       "      <td>-inf</td>\n",
       "      <td>inf</td>\n",
       "      <td>0.0</td>\n",
       "    </tr>\n",
       "  </tbody>\n",
       "</table>\n",
       "</div>"
      ],
      "text/plain": [
       "     lower_bound  upper_bound  value\n",
       "x_0         -inf          inf    0.0\n",
       "x_1         -inf          inf    0.0\n",
       "x_2         -inf          inf    0.0\n",
       "x_3         -inf          inf    0.0\n",
       "x_4         -inf          inf    0.0"
      ]
     },
     "execution_count": 9,
     "metadata": {},
     "output_type": "execute_result"
    }
   ],
   "source": [
    "# Use the exact trust region solver without bounds and without constraints\n",
    "algo_options = {\n",
    "    'tr_solver': 'exact'\n",
    "}\n",
    "\n",
    "res = minimize(\n",
    "    criterion=sphere,\n",
    "    params=start_params,\n",
    "    algorithm=\"scipy_ls_trf\",\n",
    "    derivative=sphere_gradient,\n",
    "    algo_options=algo_options\n",
    ")\n",
    "res[\"solution_params\"].round(2)"
   ]
  },
  {
   "cell_type": "markdown",
   "id": "judicial-saint",
   "metadata": {},
   "source": [
    "### 4.2. Rosenbrock Example\n",
    "To further illustrate the optimizers capabilities, I've also included the [Rosenbrock Example]((https://academic.oup.com/comjnl/article/3/3/175/345501) from the [scipy documentation](https://docs.scipy.org/doc/scipy/reference/generated/scipy.optimize.least_squares.html). In the current example, the `scipy_ls_trf` optimizer is showcased. In Section 5, a comparison with `scipy_ls_dogbox` and other optimizers from estimagic is presented.\n",
    "\n",
    "### The Rosenbrock Function\n",
    "In mathematical optimization, the Rosenbrock function is a non-convex function, introduced by Howard H. Rosenbrock in 1960, which is used as a performance test problem for optimization algorithms. It is also known as Rosenbrock's valley or Rosenbrock's banana function.\n",
    "It takes the form of:\n",
    "\\begin{align*}\n",
    "f(x,y) = (a-x)^2 + b(y-x^2)^2\n",
    "\\end{align*}\n",
    "The global minimum is inside a long, narrow, parabolic shaped flat valley. To find the valley is trivial. To converge to the global minimum, however, is difficult. It has a global minimum at $(x,y)=(a,a^{2})$, where $f(x,y)=0$. \n",
    "\n",
    "In the following example, I am taking $a = 1$ and $b=10$:"
   ]
  },
  {
   "cell_type": "code",
   "execution_count": 10,
   "id": "stuck-connection",
   "metadata": {},
   "outputs": [],
   "source": [
    "def fun_rosenbrock(params):\n",
    "    x = params[\"value\"]\n",
    "    res = 10 * (x[1] - x[0]**2)**2 + (1 - x[0])**2\n",
    "    return {\n",
    "        \"value\": res,\n",
    "        \"root_contributions\": x\n",
    "    }\n",
    "\n",
    "\n",
    "def jac_rosenbrock(params):\n",
    "    x = params[\"value\"]\n",
    "    return [\n",
    "        2 * (20 * x[0]**3 - 20 * x[0] * x[1] + x[0] - 1), # diff. wrt x[0]\n",
    "        20 * (x[1] - x[0]**2)  # diff. wrt x[1]\n",
    "    ]"
   ]
  },
  {
   "cell_type": "markdown",
   "id": "loaded-content",
   "metadata": {},
   "source": [
    "Setting up start parameters:"
   ]
  },
  {
   "cell_type": "code",
   "execution_count": 11,
   "id": "intellectual-classics",
   "metadata": {},
   "outputs": [],
   "source": [
    "x0_rosenbrock = pd.DataFrame(\n",
    "    data=[2, 2],\n",
    "    columns=[\"value\"],\n",
    "    index=[f\"x_{i}\" for i in range(2)],\n",
    ")"
   ]
  },
  {
   "cell_type": "markdown",
   "id": "alert-carol",
   "metadata": {},
   "source": [
    "Setting up parameters with bounds:"
   ]
  },
  {
   "cell_type": "code",
   "execution_count": 12,
   "id": "auburn-nashville",
   "metadata": {},
   "outputs": [],
   "source": [
    "x0_rosenbrock_with_bounds = x0_rosenbrock.copy()\n",
    "\n",
    "x0_rosenbrock_with_bounds[\"lower_bound\"] = [-np.inf, 1.5]\n",
    "x0_rosenbrock_with_bounds[\"upper_bound\"] = [np.inf] * 2"
   ]
  },
  {
   "cell_type": "markdown",
   "id": "meaningful-civilian",
   "metadata": {},
   "source": [
    "Optimize without bounds, supplying an algorithm option `convergence_relative_criterion_tol (float)`, which stops the evaluations when the relative improvement between two iterations is below the set value of 1e-4. This is to illustrate how to supply arguments in this example as well."
   ]
  },
  {
   "cell_type": "code",
   "execution_count": 13,
   "id": "miniature-richards",
   "metadata": {},
   "outputs": [
    {
     "data": {
      "text/html": [
       "<div>\n",
       "<style scoped>\n",
       "    .dataframe tbody tr th:only-of-type {\n",
       "        vertical-align: middle;\n",
       "    }\n",
       "\n",
       "    .dataframe tbody tr th {\n",
       "        vertical-align: top;\n",
       "    }\n",
       "\n",
       "    .dataframe thead th {\n",
       "        text-align: right;\n",
       "    }\n",
       "</style>\n",
       "<table border=\"1\" class=\"dataframe\">\n",
       "  <thead>\n",
       "    <tr style=\"text-align: right;\">\n",
       "      <th></th>\n",
       "      <th>lower_bound</th>\n",
       "      <th>upper_bound</th>\n",
       "      <th>value</th>\n",
       "    </tr>\n",
       "  </thead>\n",
       "  <tbody>\n",
       "    <tr>\n",
       "      <th>x_0</th>\n",
       "      <td>-inf</td>\n",
       "      <td>inf</td>\n",
       "      <td>1.0</td>\n",
       "    </tr>\n",
       "    <tr>\n",
       "      <th>x_1</th>\n",
       "      <td>-inf</td>\n",
       "      <td>inf</td>\n",
       "      <td>1.0</td>\n",
       "    </tr>\n",
       "  </tbody>\n",
       "</table>\n",
       "</div>"
      ],
      "text/plain": [
       "     lower_bound  upper_bound  value\n",
       "x_0         -inf          inf    1.0\n",
       "x_1         -inf          inf    1.0"
      ]
     },
     "execution_count": 13,
     "metadata": {},
     "output_type": "execute_result"
    }
   ],
   "source": [
    "# Without bounds\n",
    "res = minimize(\n",
    "    criterion=fun_rosenbrock,\n",
    "    params=x0_rosenbrock,\n",
    "    algorithm=\"scipy_ls_trf\",\n",
    "    derivative=jac_rosenbrock,\n",
    "    algo_options={\"convergence_relative_criterion_tol\": 1e-4}\n",
    ")\n",
    "# Function has minima at (1, 1)\n",
    "res[\"solution_params\"].round(2)"
   ]
  },
  {
   "cell_type": "markdown",
   "id": "acoustic-writing",
   "metadata": {},
   "source": [
    "Optimize with bounds:"
   ]
  },
  {
   "cell_type": "code",
   "execution_count": 14,
   "id": "greatest-baltimore",
   "metadata": {},
   "outputs": [
    {
     "data": {
      "text/html": [
       "<div>\n",
       "<style scoped>\n",
       "    .dataframe tbody tr th:only-of-type {\n",
       "        vertical-align: middle;\n",
       "    }\n",
       "\n",
       "    .dataframe tbody tr th {\n",
       "        vertical-align: top;\n",
       "    }\n",
       "\n",
       "    .dataframe thead th {\n",
       "        text-align: right;\n",
       "    }\n",
       "</style>\n",
       "<table border=\"1\" class=\"dataframe\">\n",
       "  <thead>\n",
       "    <tr style=\"text-align: right;\">\n",
       "      <th></th>\n",
       "      <th>lower_bound</th>\n",
       "      <th>upper_bound</th>\n",
       "      <th>value</th>\n",
       "    </tr>\n",
       "  </thead>\n",
       "  <tbody>\n",
       "    <tr>\n",
       "      <th>x_0</th>\n",
       "      <td>-inf</td>\n",
       "      <td>inf</td>\n",
       "      <td>1.22</td>\n",
       "    </tr>\n",
       "    <tr>\n",
       "      <th>x_1</th>\n",
       "      <td>1.5</td>\n",
       "      <td>inf</td>\n",
       "      <td>1.50</td>\n",
       "    </tr>\n",
       "  </tbody>\n",
       "</table>\n",
       "</div>"
      ],
      "text/plain": [
       "     lower_bound  upper_bound  value\n",
       "x_0         -inf          inf   1.22\n",
       "x_1          1.5          inf   1.50"
      ]
     },
     "execution_count": 14,
     "metadata": {},
     "output_type": "execute_result"
    }
   ],
   "source": [
    "# With bounds\n",
    "res = minimize(\n",
    "    criterion=fun_rosenbrock,\n",
    "    params=x0_rosenbrock_with_bounds,\n",
    "    algorithm=\"scipy_ls_dogbox\",\n",
    "    derivative=jac_rosenbrock,\n",
    ")\n",
    "# Function has new solution that lies on the bound (1.22, 1.5)\n",
    "res[\"solution_params\"].round(2)"
   ]
  },
  {
   "cell_type": "markdown",
   "id": "hourly-internship",
   "metadata": {},
   "source": [
    "## 5. Comparison\n",
    "A quick comparison will show the performance differences of the two new optimizers and other optimizers from estimagic, using the functions presented in Section 4."
   ]
  },
  {
   "cell_type": "code",
   "execution_count": 15,
   "id": "adverse-individual",
   "metadata": {},
   "outputs": [],
   "source": [
    "from time import time\n",
    "import seaborn as sns\n",
    "import math"
   ]
  },
  {
   "cell_type": "markdown",
   "id": "circular-contents",
   "metadata": {},
   "source": [
    "### 5.1. Sphere Function\n",
    "Pick which optimizers to compare using the sphere function and record their times. In this specific example, since I am using parameters with bounds, I am comparing only optimizers that allow for bounds. Of course, the same exercise can be done without bounds (or constraints)."
   ]
  },
  {
   "cell_type": "markdown",
   "id": "improved-peace",
   "metadata": {},
   "source": [
    "Set up constraints:"
   ]
  },
  {
   "cell_type": "code",
   "execution_count": 16,
   "id": "stuffed-guarantee",
   "metadata": {},
   "outputs": [],
   "source": [
    "constraints = [{\"loc\": [\"x_0\", \"x_3\"], \"type\": \"fixed\", \"value\": [1, 4]}]"
   ]
  },
  {
   "cell_type": "code",
   "execution_count": 17,
   "id": "tropical-graphics",
   "metadata": {},
   "outputs": [],
   "source": [
    "# All internal optimizers: [\"scipy_ls_trf\", \"scipy_ls_dogbox\", \"scipy_slsqp\", \"scipy_lbfgsb\", \"scipy_neldermead\",\n",
    "# \"scipy_powell\", \"scipy_bfgs\", \"scipy_conjugate_gradient\", \"scipy_newton_cg\", \"scipy_cobyla\", \"scipy_truncated_newton\",\n",
    "# \"scipy_trust_constr\"]\n",
    "\n",
    "# Algorithms that allow for bounds:\n",
    "ALGORITHMS = [\"scipy_ls_trf\", \"scipy_ls_dogbox\", \"scipy_slsqp\", \"scipy_lbfgsb\", \"scipy_powell\",\n",
    "              \"scipy_bfgs\", \"scipy_truncated_newton\", \"scipy_trust_constr\"]\n",
    "res = {}\n",
    "times = {}\n",
    "for i in ALGORITHMS:\n",
    "    t0 = time()\n",
    "    res[i] = minimize(\n",
    "        criterion=sphere,\n",
    "        params=params_with_bounds,\n",
    "        algorithm=i,\n",
    "        derivative=sphere_gradient,\n",
    "        constraints=constraints,\n",
    "    )\n",
    "    # Record their times\n",
    "    times[i] = time() - t0"
   ]
  },
  {
   "cell_type": "markdown",
   "id": "under-arlington",
   "metadata": {},
   "source": [
    "Print the results to see if there is an algorithm that did not manage to find the minima. Note that the entire set of results can be printed. I just chose this particular format, as I used it in the examples in Section 4."
   ]
  },
  {
   "cell_type": "code",
   "execution_count": 18,
   "id": "sporting-particular",
   "metadata": {
    "scrolled": false
   },
   "outputs": [
    {
     "name": "stdout",
     "output_type": "stream",
     "text": [
      "scipy_ls_trf:\n",
      "     lower_bound  upper_bound  value\n",
      "x_0          0.0          inf    1.0\n",
      "x_1          1.0          inf    1.0\n",
      "x_2          0.0          inf    0.0\n",
      "x_3         -1.0          inf    4.0\n",
      "x_4          0.0          inf    0.0\n",
      "scipy_ls_dogbox:\n",
      "     lower_bound  upper_bound  value\n",
      "x_0          0.0          inf    1.0\n",
      "x_1          1.0          inf    1.0\n",
      "x_2          0.0          inf    0.0\n",
      "x_3         -1.0          inf    4.0\n",
      "x_4          0.0          inf    0.0\n",
      "scipy_slsqp:\n",
      "     lower_bound  upper_bound  value\n",
      "x_0          0.0          inf    1.0\n",
      "x_1          1.0          inf    1.0\n",
      "x_2          0.0          inf    0.0\n",
      "x_3         -1.0          inf    4.0\n",
      "x_4          0.0          inf    0.0\n",
      "scipy_lbfgsb:\n",
      "     lower_bound  upper_bound  value\n",
      "x_0          0.0          inf    1.0\n",
      "x_1          1.0          inf    1.0\n",
      "x_2          0.0          inf    0.0\n",
      "x_3         -1.0          inf    4.0\n",
      "x_4          0.0          inf    0.0\n",
      "scipy_powell:\n",
      "     lower_bound  upper_bound  value\n",
      "x_0          0.0          inf    1.0\n",
      "x_1          1.0          inf    1.0\n",
      "x_2          0.0          inf    0.0\n",
      "x_3         -1.0          inf    4.0\n",
      "x_4          0.0          inf    0.0\n",
      "scipy_bfgs:\n",
      "     lower_bound  upper_bound  value\n",
      "x_0          0.0          inf    1.0\n",
      "x_1          1.0          inf   -0.0\n",
      "x_2          0.0          inf   -0.0\n",
      "x_3         -1.0          inf    4.0\n",
      "x_4          0.0          inf    0.0\n",
      "scipy_truncated_newton:\n",
      "     lower_bound  upper_bound  value\n",
      "x_0          0.0          inf    1.0\n",
      "x_1          1.0          inf    1.0\n",
      "x_2          0.0          inf    0.0\n",
      "x_3         -1.0          inf    4.0\n",
      "x_4          0.0          inf    0.0\n",
      "scipy_trust_constr:\n",
      "     lower_bound  upper_bound  value\n",
      "x_0          0.0          inf    1.0\n",
      "x_1          1.0          inf    1.0\n",
      "x_2          0.0          inf    0.0\n",
      "x_3         -1.0          inf    4.0\n",
      "x_4          0.0          inf    0.0\n"
     ]
    }
   ],
   "source": [
    "for i in ALGORITHMS:\n",
    "    print(f\"{i}:\")\n",
    "    print(res[i][\"solution_params\"].round(2))"
   ]
  },
  {
   "cell_type": "markdown",
   "id": "descending-intellectual",
   "metadata": {},
   "source": [
    "Let's see how the different algorithms performed with respect to time:"
   ]
  },
  {
   "cell_type": "code",
   "execution_count": 19,
   "id": "broadband-jackson",
   "metadata": {},
   "outputs": [
    {
     "name": "stdout",
     "output_type": "stream",
     "text": [
      "Times (s):\n",
      "scipy_ls_trf: 0.18\n",
      "scipy_ls_dogbox: 0.08\n",
      "scipy_slsqp: 0.06\n",
      "scipy_lbfgsb: 0.06\n",
      "scipy_powell: 2.45\n",
      "scipy_bfgs: 0.09\n",
      "scipy_truncated_newton: 0.12\n",
      "scipy_trust_constr: 0.23\n"
     ]
    }
   ],
   "source": [
    "print(\"Times (s):\")\n",
    "for algo, time in times.items():\n",
    "    print(\"{}: {}\".format(algo, round(time, 2)))"
   ]
  },
  {
   "cell_type": "markdown",
   "id": "indian-jones",
   "metadata": {},
   "source": [
    "Plot the results for clarity:"
   ]
  },
  {
   "cell_type": "code",
   "execution_count": 20,
   "id": "threatened-michigan",
   "metadata": {
    "scrolled": false
   },
   "outputs": [
    {
     "data": {
      "image/png": "[encoded data removed]",
      "text/plain": [
       "<Figure size 432x288 with 1 Axes>"
      ]
     },
     "metadata": {
      "needs_background": "light"
     },
     "output_type": "display_data"
    }
   ],
   "source": [
    "res_data = []\n",
    "for i in ALGORITHMS:\n",
    "    res_data.append((i, times[i]))\n",
    "\n",
    "results = pd.DataFrame(\n",
    "        data=res_data,\n",
    "    columns=[\"Algorithm\", \"Time (s)\"]\n",
    ")\n",
    "\n",
    "plot = sns.barplot(x=\"Algorithm\", y=\"Time (s)\", data=results)\n",
    "_ = plot.set_xticklabels(plot.get_xticklabels(), rotation=45)"
   ]
  },
  {
   "cell_type": "markdown",
   "id": "above-barcelona",
   "metadata": {},
   "source": [
    "Now let's see how they did with respect to number of evaluations:"
   ]
  },
  {
   "cell_type": "code",
   "execution_count": 21,
   "id": "characteristic-ready",
   "metadata": {},
   "outputs": [
    {
     "name": "stdout",
     "output_type": "stream",
     "text": [
      "Evaluations:\n",
      "scipy_ls_trf: 13\n",
      "scipy_ls_dogbox: 3\n",
      "scipy_slsqp: 2\n",
      "scipy_lbfgsb: 3\n",
      "scipy_powell: 388\n",
      "scipy_bfgs: 4\n",
      "scipy_truncated_newton: 7\n",
      "scipy_trust_constr: 15\n"
     ]
    }
   ],
   "source": [
    "print(\"Evaluations:\")\n",
    "for i in ALGORITHMS:\n",
    "    print(\"{}: {}\".format(i, res[i]['n_criterion_evaluations']))"
   ]
  },
  {
   "cell_type": "code",
   "execution_count": 22,
   "id": "minor-medicaid",
   "metadata": {},
   "outputs": [
    {
     "data": {
      "image/png": "[encoded data removed]",
      "text/plain": [
       "<Figure size 432x288 with 1 Axes>"
      ]
     },
     "metadata": {
      "needs_background": "light"
     },
     "output_type": "display_data"
    }
   ],
   "source": [
    "res_data = []\n",
    "for i in ALGORITHMS:\n",
    "    res_data.append((i, math.log2(res[i]['n_criterion_evaluations'])))\n",
    "\n",
    "results = pd.DataFrame(\n",
    "        data=res_data,\n",
    "    columns=[\"Algorithm\", \"Evaluations ($log_2$)\"]\n",
    ")\n",
    "\n",
    "plot = sns.barplot(x=\"Algorithm\", y=\"Evaluations ($log_2$)\", data=results)\n",
    "_ = plot.set_xticklabels(plot.get_xticklabels(), rotation=45)"
   ]
  },
  {
   "cell_type": "markdown",
   "id": "boxed-overview",
   "metadata": {},
   "source": [
    "Given a simple example function - like the sphere function - the new optimizers perform as well as or better than the existing optimizers in estimagic. \n",
    "\n",
    "The plots show that for a bounded problem with few variables, the `scipy_ls_dogbox` outperforms `scipy_ls_trf` both in terms of evalutaions and runtime. With respect to time `scipy_ls_dogbox` is one of the best performing optimizers and in terms of evaluations it is outperformed only by SLSQP (`scipy_slsqp`). `scipy_ls_trf` is slower and requires more evaluations. It performes better in terms of time and evaluations only compared to `scipy_powell` and `scipy_trust_constr`."
   ]
  },
  {
   "cell_type": "markdown",
   "id": "crazy-nothing",
   "metadata": {},
   "source": [
    "### 5.2. Rosenbrock Function\n",
    "I would like to compare the performance of the above algorithms using another function - the Rosenbrock function. Notice how easy it is to change the function, parameters and its derivative. The code allows for perspecitve users to pick the best optimizers for their needs by supplying the necessary arguments and selecting which algorithms to be compared."
   ]
  },
  {
   "cell_type": "code",
   "execution_count": 23,
   "id": "pursuant-danish",
   "metadata": {},
   "outputs": [],
   "source": [
    "from time import time\n",
    "ALGORITHMS = [\"scipy_ls_trf\", \"scipy_ls_dogbox\", \"scipy_slsqp\", \"scipy_lbfgsb\", \"scipy_powell\",\n",
    "              \"scipy_bfgs\", \"scipy_truncated_newton\", \"scipy_trust_constr\"]\n",
    "res = {}\n",
    "times = {}\n",
    "for i in ALGORITHMS:\n",
    "    t0 = time()\n",
    "    res[i] = minimize(\n",
    "        criterion=fun_rosenbrock,\n",
    "        params=x0_rosenbrock_with_bounds,\n",
    "        algorithm=i,\n",
    "        derivative=jac_rosenbrock,\n",
    "    )\n",
    "    # Record their times\n",
    "    times[i] = time() - t0"
   ]
  },
  {
   "cell_type": "markdown",
   "id": "advisory-dylan",
   "metadata": {},
   "source": [
    "Print the results to see if there is an algorithm that did not manage to find the minima."
   ]
  },
  {
   "cell_type": "code",
   "execution_count": 24,
   "id": "mental-ribbon",
   "metadata": {
    "scrolled": true
   },
   "outputs": [
    {
     "name": "stdout",
     "output_type": "stream",
     "text": [
      "scipy_ls_trf:\n",
      "     lower_bound  upper_bound  value\n",
      "x_0         -inf          inf   1.22\n",
      "x_1          1.5          inf   1.50\n",
      "scipy_ls_dogbox:\n",
      "     lower_bound  upper_bound  value\n",
      "x_0         -inf          inf   1.22\n",
      "x_1          1.5          inf   1.50\n",
      "scipy_slsqp:\n",
      "     lower_bound  upper_bound  value\n",
      "x_0         -inf          inf   1.22\n",
      "x_1          1.5          inf   1.50\n",
      "scipy_lbfgsb:\n",
      "     lower_bound  upper_bound  value\n",
      "x_0         -inf          inf   1.22\n",
      "x_1          1.5          inf   1.50\n",
      "scipy_powell:\n",
      "     lower_bound  upper_bound  value\n",
      "x_0         -inf          inf   1.22\n",
      "x_1          1.5          inf   1.50\n",
      "scipy_bfgs:\n",
      "     lower_bound  upper_bound  value\n",
      "x_0         -inf          inf    1.0\n",
      "x_1          1.5          inf    1.0\n",
      "scipy_truncated_newton:\n",
      "     lower_bound  upper_bound  value\n",
      "x_0         -inf          inf   1.22\n",
      "x_1          1.5          inf   1.50\n",
      "scipy_trust_constr:\n",
      "     lower_bound  upper_bound  value\n",
      "x_0         -inf          inf   1.22\n",
      "x_1          1.5          inf   1.50\n"
     ]
    }
   ],
   "source": [
    "for i in ALGORITHMS:\n",
    "    print(f'{i}:')\n",
    "    print(res[i][\"solution_params\"].round(2))"
   ]
  },
  {
   "cell_type": "markdown",
   "id": "hungarian-chamber",
   "metadata": {},
   "source": [
    "The BFGS `scipy_bfgs` algorithm did not manage to find the minima within the given bounds."
   ]
  },
  {
   "cell_type": "markdown",
   "id": "imposed-stack",
   "metadata": {},
   "source": [
    "Let's see how the different algorithms performed with respect to time:"
   ]
  },
  {
   "cell_type": "code",
   "execution_count": 25,
   "id": "historical-twenty",
   "metadata": {},
   "outputs": [
    {
     "name": "stdout",
     "output_type": "stream",
     "text": [
      "Time (s):\n",
      "scipy_ls_trf: 79.82\n",
      "scipy_ls_dogbox: 6.84\n",
      "scipy_slsqp: 1.15\n",
      "scipy_lbfgsb: 1.25\n",
      "scipy_powell: 5.84\n",
      "scipy_bfgs: 0.27\n",
      "scipy_truncated_newton: 0.19\n",
      "scipy_trust_constr: 0.49\n"
     ]
    }
   ],
   "source": [
    "print(\"Time (s):\")\n",
    "for algo, time in times.items():\n",
    "    print(\"{}: {}\".format(algo, round(time, 2)))"
   ]
  },
  {
   "cell_type": "markdown",
   "id": "joint-anderson",
   "metadata": {},
   "source": [
    "Plot the results for clarity:"
   ]
  },
  {
   "cell_type": "code",
   "execution_count": 26,
   "id": "textile-court",
   "metadata": {
    "scrolled": false
   },
   "outputs": [
    {
     "data": {
      "image/png": "[encoded data removed]",
      "text/plain": [
       "<Figure size 432x288 with 1 Axes>"
      ]
     },
     "metadata": {
      "needs_background": "light"
     },
     "output_type": "display_data"
    }
   ],
   "source": [
    "res_data = []\n",
    "for i in ALGORITHMS:\n",
    "    res_data.append((i, times[i]))\n",
    "\n",
    "results = pd.DataFrame(\n",
    "        data=res_data,\n",
    "    columns=[\"Algorithm\", \"Time (s)\"]\n",
    ")\n",
    "\n",
    "plot = sns.barplot(x=\"Algorithm\", y=\"Time (s)\", data=results)\n",
    "_ = plot.set_xticklabels(plot.get_xticklabels(), rotation=45)"
   ]
  },
  {
   "cell_type": "markdown",
   "id": "occupied-replacement",
   "metadata": {},
   "source": [
    "Now let's see how they did with respect to number of evaluations:"
   ]
  },
  {
   "cell_type": "code",
   "execution_count": 27,
   "id": "frozen-prague",
   "metadata": {},
   "outputs": [
    {
     "name": "stdout",
     "output_type": "stream",
     "text": [
      "Evaluations:\n",
      "scipy_ls_trf: 5222\n",
      "scipy_ls_dogbox: 258\n",
      "scipy_slsqp: 9\n",
      "scipy_lbfgsb: 16\n",
      "scipy_powell: 644\n",
      "scipy_bfgs: 23\n",
      "scipy_truncated_newton: 13\n",
      "scipy_trust_constr: 28\n"
     ]
    }
   ],
   "source": [
    "print(\"Evaluations:\")\n",
    "for i in ALGORITHMS:\n",
    "    print(\"{}: {}\".format(i, res[i]['n_criterion_evaluations']))"
   ]
  },
  {
   "cell_type": "code",
   "execution_count": 28,
   "id": "aggressive-jersey",
   "metadata": {},
   "outputs": [
    {
     "data": {
      "image/png": "[encoded data removed]",
      "text/plain": [
       "<Figure size 432x288 with 1 Axes>"
      ]
     },
     "metadata": {
      "needs_background": "light"
     },
     "output_type": "display_data"
    }
   ],
   "source": [
    "res_data = []\n",
    "for i in ALGORITHMS:\n",
    "    res_data.append((i, math.log2(res[i]['n_criterion_evaluations'])))\n",
    "\n",
    "results = pd.DataFrame(\n",
    "        data=res_data,\n",
    "    columns=[\"Algorithm\", \"Evaluations ($log_2$)\"]\n",
    ")\n",
    "\n",
    "plot = sns.barplot(x=\"Algorithm\", y=\"Evaluations ($log_2$)\", data=results)\n",
    "_ = plot.set_xticklabels(plot.get_xticklabels(), rotation=45)"
   ]
  },
  {
   "cell_type": "markdown",
   "id": "illegal-tonight",
   "metadata": {},
   "source": [
    "The plots show that for a bounded problem with few variables, the `scipy_ls_dogbox` outperforms `scipy_ls_trf` both in terms of evalutaions and runtime for the Rosenbrock function as well. However, both of them perform poorly relative to the other internal optimizers that were used in the comparison. Given the fact that the Rosenbrock function is particularly well suited to determine the performance of least squares optimizers that is puzzling. Hence, I decided to observe their performance outside of the estimagic framework below."
   ]
  },
  {
   "cell_type": "markdown",
   "id": "upset-sender",
   "metadata": {},
   "source": [
    "### Rosenbrock without estimagic\n",
    "Using the native API of `least_squares`, the criterion function resturns two terms that are to be sqauared (instead of one final result, as in estimagic). This leads to a massive speed up for optimization of the Rosenbrock function.\n",
    "As estimagic is a collection of optimization algorithms, it would be a major design change to allow for such behaviour."
   ]
  },
  {
   "cell_type": "code",
   "execution_count": 29,
   "id": "through-basics",
   "metadata": {},
   "outputs": [
    {
     "name": "stdout",
     "output_type": "stream",
     "text": [
      "Required evaluations: 9\n",
      "Result: [1.22104405 1.5       ]\n"
     ]
    }
   ],
   "source": [
    "from scipy.optimize import least_squares\n",
    "\n",
    "def fun_rosenbrock(x):\n",
    "    return np.array([math.sqrt(10) * (x[1] - x[0]**2), (1 - x[0])])\n",
    "\n",
    "def jac_rosenbrock(x):\n",
    "    return np.array([\n",
    "        [-2* math.sqrt(10) * x[0], math.sqrt(10)],\n",
    "        [-1, 0]])\n",
    "\n",
    "x0_rosenbrock = np.array([2, 2])\n",
    "res_1 = least_squares(fun_rosenbrock, x0_rosenbrock, jac_rosenbrock, bounds=([-np.inf, 1.5], np.inf))\n",
    "print(\"Required evaluations:\", res_1['nfev'])\n",
    "print(\"Result:\", res_1['x'])"
   ]
  },
  {
   "cell_type": "markdown",
   "id": "qualified-split",
   "metadata": {},
   "source": [
    "Here the number of evaluations is just 9, using what in estimagic is `scipy_ls_trf` and its default methods. Within the estimagic framework, it took `scipy_ls_trf` 5222 evaluations to get to the same result."
   ]
  },
  {
   "cell_type": "markdown",
   "id": "satellite-editing",
   "metadata": {},
   "source": [
    "### 5.3. Results\n",
    "A quick summary of the comparison results from above:\n",
    "* The new optimizers work well with the Sphere function and outperform some of the already added optimizers.\n",
    "* The new optimizers perform poorly in the Rosenbrock example. However, that is largely due to the differences in the API.\n",
    "* Including `least_sqaures` properly would require major API changes in estimagic, which is a design decision the maintainers have to make."
   ]
  }
 ],
 "metadata": {
  "kernelspec": {
   "display_name": "Python 3",
   "language": "python",
   "name": "python3"
  },
  "language_info": {
   "codemirror_mode": {
    "name": "ipython",
    "version": 3
   },
   "file_extension": ".py",
   "mimetype": "text/x-python",
   "name": "python",
   "nbconvert_exporter": "python",
   "pygments_lexer": "ipython3",
   "version": "3.9.2"
  }
 },
 "nbformat": 4,
 "nbformat_minor": 5
}
