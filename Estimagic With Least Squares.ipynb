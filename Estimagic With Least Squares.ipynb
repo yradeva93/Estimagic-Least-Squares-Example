{
 "cells": [
  {
   "cell_type": "markdown",
   "metadata": {},
   "source": [
    "# Estimagic with SciPy's `least_squares`\n",
    "\n",
    "This is the accompanying documentation to the Pull Request adding the scipy [least_squares](https://docs.scipy.org/doc/scipy/reference/generated/scipy.optimize.least_squares.html) to [estimagic](https://github.com/OpenSourceEconomics/estimagic).\n",
    "\n"
   ]
  },
  {
   "cell_type": "markdown",
   "metadata": {},
   "source": [
    "## Table of Contents:\n",
    "   1. Project Goals\n",
    "   2. Modification Process\n",
    "   3. Underlying Algorithms\n",
    "   4. Examples\n",
    "   5. Comparison"
   ]
  },
  {
   "cell_type": "markdown",
   "metadata": {},
   "source": [
    "## 1. Project Goals\n",
    "This project adds new internal optimizers to the estimagic library for nonlinear optimization.\n",
    "\n",
    "### 1.1 Estimagic\n",
    "[estimagic](https://github.com/OpenSourceEconomics/estimagic) is a Python package that provides tools for nonlinear optimization, numerical differentiation and statistical inference to fit large scale empirical models to data and make inferences about the estimated model parameters. It is well suited to solving difficult constrained optimization problems.\n",
    "\n",
    "The full documentation can be accessed [here](https://estimagic.readthedocs.io/en/latest/#).\n",
    "\n",
    "### 1.2 Contribution\n",
    "estimagic provides a large collection of [internal optimizers](https://estimagic.readthedocs.io/en/latest/explanations/optimization/internal_optimizers.html). \n",
    "This project adds two least square algorithms as internal optimizers.\n",
    "These two new optimizers are based on scipy's least squares implementation, see [scipy.optimize.least_squares](https://docs.scipy.org/doc/scipy/reference/generated/scipy.optimize.least_squares.html#r20fc1df64af7-stir).\n",
    "\n",
    "A third possible scipy least squares optimizer, based on the Levenberg-Marquardt algorithm, was not included. It's inabillity to handle bounds or constraints as well as the fact that it requires the number of residuals and number of variables to be equal does not make it a good fit for estimagic's internal optimizer structure.\n",
    "\n",
    "The added optimizers:\n",
    "* `scipy_ls_trf`\n",
    "* `scipy_ls_dogbox`\n",
    "\n",
    "will be explained and tested within this notebook."
   ]
  },
  {
   "cell_type": "markdown",
   "metadata": {},
   "source": [
    "## 2. Modification Process\n",
    "Almost all modifications where done in the file `estimagic/optimization/scipy_optimizers.py`.\n",
    "Adding the optimizers was done in the following steps:\n",
    "\n",
    "1. Add a function `scipy_least_squares`, with the different algorithms (trf and dogbox) as parameters. Later this API was changed (see below).\n",
    "2. Add the function to the test suite, by marking it as imprecise (i.e. adding it to `IMPRECISE_ALGOS` and `is_least_sqaures` lists).\n",
    "3. Add relevant parameters to the function and supply them to the underlying `scipy_least_squares` function.\n",
    "4. Wonder for multiple hours, why `tox` throws errors. Find out that it is because `petsc` Gitlab link was broken.\n",
    "5. Fix the `petsc` link in the documentation.\n",
    "6. Change the API to one internal function `_scipy_least_squares` and two front facing functions `scipy_ls_trf` and `scipy_ls_dogbox`. This was done to better fit into the estimagic internal structure.\n",
    "7. Remove support for the `lm` (Levenberg-Marquardt) method. See section 1.2 for rational.\n",
    "8. Align tests to points 6. and 7."
   ]
  },
  {
   "cell_type": "markdown",
   "metadata": {},
   "source": [
    "## 3. Underlying Algorithms\n",
    "The `scipy.optimize.least_sqaures` solves a nonlinear least-squares problem with bounds on the variables. \n",
    "\n",
    "Internally, it uses three algorithms: \n",
    "\n",
    "1. Trust Region Reflective Method (trf)\n",
    "2. DogBox Method (dogbox)\n",
    "3. Levenberg-Marquardt Method. \n",
    "\n",
    "As Levenberg-Marquardt was not included, the next sections will only introduce the trf and dogbox methods.\n",
    "This descriptions of the algorithms are heavily based on the [excellent scipy documentation](https://docs.scipy.org/doc/scipy/reference/generated/scipy.optimize.least_squares.html#id7)."
   ]
  },
  {
   "cell_type": "markdown",
   "metadata": {},
   "source": [
    "### 3.1. Trust Region Reflective `scipy_ls_trf`\n",
    "\n",
    "\n",
    "Method ‘trf’ (Trust Region Reflective) is motivated by the process of solving a system of equations, which constitute the first-order optimality condition for a bound-constrained minimization problem as formulated in [STIR](https://epubs.siam.org/doi/10.1137/S1064827595289108). The algorithm iteratively solves trust-region subproblems augmented by a special diagonal quadratic term and with trust-region shape determined by the distance from the bounds and the direction of the gradient. This enhancements help to avoid making steps directly into bounds and efficiently explore the whole space of variables. To further improve convergence, the algorithm considers search directions reflected from the bounds. With dense Jacobians trust-region subproblems are solved by an exact method. A singular value decomposition of a Jacobian matrix is done once per iteration. For large sparse Jacobians a 2-D subspace approach of solving trust-region subproblems is used [STIR](https://epubs.siam.org/doi/10.1137/S1064827595289108), [Byrd](https://link.springer.com/article/10.1007/BF01580735). The subspace is spanned by a scaled gradient and an approximate Gauss-Newton solution delivered. \n",
    "The algorithm works quite robust in unbounded and bounded problems, thus it is chosen as a default algorithm."
   ]
  },
  {
   "cell_type": "markdown",
   "metadata": {},
   "source": [
    "### 3.2. DogBox `scipy_ls_dogbox`\n",
    "Method ‘dogbox’ operates in a trust-region framework, but considers rectangular trust regions as opposed to conventional ellipsoids [Voglis](http://www.cs.uoi.gr/~lagaris/papers/PREPRINTS/dogbox.pdf). The intersection of a current trust region and initial bounds is again rectangular, so on each iteration a quadratic minimization problem subject to bound constraints is solved approximately by Powell’s dogleg method [NumOpt](https://link.springer.com/book/10.1007/978-0-387-40065-5). The required Gauss-Newton step can be computed exactly for dense Jacobians or approximately for large sparse Jacobians. The algorithm is likely to exhibit slow convergence when the rank of Jacobian is less than the number of variables. \n",
    "The algorithm often outperforms ‘trf’ in bounded problems with a small number of variables."
   ]
  },
  {
   "cell_type": "markdown",
   "metadata": {},
   "source": [
    "### 3.3. Trust Region Methods\n",
    "Both methods above fall in the category of trust region optimization methods. In general, these algorithms are iterative procedures in which the objective function $f(x)$ is represented by a quadratic model within a trust region. A trust region is a suitable neigborhood of the current itterate, as implied by the Tylor series expansion, such that at its $k^{th}$ itteration, $f(x)$ can be written as:\n",
    "\n",
    "\\begin{align*}\n",
    "f(x_{k}+s) \\approx m_{k}(s) = f(x_{k})+g_{k}^{T}s + \\frac{1}{2}s^{T}B_{k}s\n",
    "\\end{align*}\n",
    "\n",
    "where $g_{k}= \\nabla f(x_{k})$ and $B_{k}$ is a symmetric approximation of $\\nabla^{2} f(x_{k})$. Then the trust region is defined as:\n",
    "\n",
    "\\begin{align*}\n",
    "T_{k} = \\{x \\in \\mathfrak{R}^{n}|\\, ||x - x_{k}|| \\leq \\Delta_{k} \\}\n",
    "\\end{align*}\n",
    "\n",
    "Different choices of the norm will lead to different shapes of the trust region. \n",
    "Given the model and the trust region, a step $s_{k} \\leq \\Delta_{k} $ is chosen such that the model is sufficiently reduced in value. Using this step, compare the reduction in the model to that in the objective function. If they agree to a certain extend,\n",
    "the step is accepted and the trust region is either expanded or remains the same. Otherwise, the step is rejected and the trust region is contracted.\n",
    "\n",
    "The very basic trust region algorithm can be seen below:\n",
    "\n",
    "S0: Set $k=0$ and pick the initial point and and trust region parameter $x_{0}$ and $\\Delta_{0}$\n",
    "\n",
    "S1: Construct a quadratic model: $f(x_{k}+s) \\approx m_{k}(s)$\n",
    "\n",
    "S2: Calculate $s_{k}$ such that $||s_{k}|| \\leq \\Delta_{k}$ to sufficiently reduce $m_{k}$\n",
    "\n",
    "S3: Calculate the ratio of actual to expected reduction $r_{k} = \\frac{f(x_{k}) - f(x_{k} + s_{k})}{m_{k}(0) - m_{k}(s)}$. Accept the step or not, according to $r_{k}$ and update $\\Delta_{k}$.\n",
    "\n",
    "S4: Increment $k \\leftarrow k+1$ and repeat from S1."
   ]
  },
  {
   "cell_type": "markdown",
   "metadata": {},
   "source": [
    "## 4. Examples"
   ]
  },
  {
   "cell_type": "markdown",
   "metadata": {},
   "source": [
    "### 4.1. Sphere Example\n",
    "To show that the optimizers work within estimagic, I've included the [Sphere Example](https://estimagic.readthedocs.io/en/latest/getting_started/first_optimization_with_estimagic.html) already used in the documentation. In the current example, the `scipy_ls_trf` optimizer is showcased. In Section 5, a comparison with `scipy_ls_dogbox` and other optimizers from estimagic is presented.\n"
   ]
  },
  {
   "cell_type": "code",
   "execution_count": 1,
   "metadata": {},
   "outputs": [
    {
     "name": "stderr",
     "output_type": "stream",
     "text": [
      "/home/yana/PycharmProjects/estimagic/venv/lib/python3.9/site-packages/fuzzywuzzy/fuzz.py:11: UserWarning: Using slow pure-python SequenceMatcher. Install python-Levenshtein to remove this warning\n",
      "  warnings.warn('Using slow pure-python SequenceMatcher. Install python-Levenshtein to remove this warning')\n"
     ]
    }
   ],
   "source": [
    "import numpy as np\n",
    "import pandas as pd\n",
    "from estimagic import minimize\n",
    "from estimagic.logging.read_log import read_optimization_iteration"
   ]
  },
  {
   "cell_type": "markdown",
   "metadata": {},
   "source": [
    "### The Sphere Function\n",
    "The Sphere function takes the form:\n",
    "\\begin{align*}\n",
    "f(x) = \\sum_{i=1}^d {x_{i}^2}\n",
    "\\end{align*}\n",
    "where $d$ denotes the dimension. It has $d$ local minima except for the global one. It is continuous, convex and unimodal. The unique local and global optimum of this function is at the zero vector."
   ]
  },
  {
   "cell_type": "code",
   "execution_count": 2,
   "metadata": {},
   "outputs": [],
   "source": [
    "def sphere(params):\n",
    "    \"\"\"Spherical criterion function.\n",
    "\n",
    "    The unique local and global optimum of this function is at\n",
    "    the zero vector. It is differentiable, convex and extremely\n",
    "    well behaved in any possible sense.\n",
    "\n",
    "    Args:\n",
    "        params (pandas.DataFrame): DataFrame with the columns\n",
    "            \"value\", \"lower_bound\", \"upper_bound\" and potentially more.\n",
    "\n",
    "    Returns:\n",
    "        dict: A dictionary with the entries \"value\" and \"root_contributions\".\n",
    "\n",
    "    \"\"\"\n",
    "    out = {\n",
    "        \"value\": (params[\"value\"] ** 2).sum(),\n",
    "        \"root_contributions\": params[\"value\"],\n",
    "    }\n",
    "    return out\n",
    "\n",
    "\n",
    "def sphere_gradient(params):\n",
    "    \"\"\"Gradient of spherical criterion function\"\"\"\n",
    "    return params[\"value\"] * 2"
   ]
  },
  {
   "cell_type": "markdown",
   "metadata": {},
   "source": [
    "Setting up start parameters:"
   ]
  },
  {
   "cell_type": "code",
   "execution_count": 3,
   "metadata": {},
   "outputs": [],
   "source": [
    "start_params = pd.DataFrame(\n",
    "    data=np.arange(5) + 1,\n",
    "    columns=[\"value\"],\n",
    "    index=[f\"x_{i}\" for i in range(5)],\n",
    ")"
   ]
  },
  {
   "cell_type": "markdown",
   "metadata": {},
   "source": [
    "Setting up parameters with bounds:"
   ]
  },
  {
   "cell_type": "code",
   "execution_count": 4,
   "metadata": {},
   "outputs": [],
   "source": [
    "params_with_bounds = start_params.copy()\n",
    "\n",
    "params_with_bounds[\"lower_bound\"] = [0, 1, 0, -1, 0]\n",
    "params_with_bounds[\"upper_bound\"] = [np.inf] * 5"
   ]
  },
  {
   "cell_type": "markdown",
   "metadata": {},
   "source": [
    "Run an optimization using the algorithm `scipy_ls_trf` and the parameters with bounds:"
   ]
  },
  {
   "cell_type": "code",
   "execution_count": 5,
   "metadata": {},
   "outputs": [
    {
     "data": {
      "text/html": [
       "<div>\n",
       "<style scoped>\n",
       "    .dataframe tbody tr th:only-of-type {\n",
       "        vertical-align: middle;\n",
       "    }\n",
       "\n",
       "    .dataframe tbody tr th {\n",
       "        vertical-align: top;\n",
       "    }\n",
       "\n",
       "    .dataframe thead th {\n",
       "        text-align: right;\n",
       "    }\n",
       "</style>\n",
       "<table border=\"1\" class=\"dataframe\">\n",
       "  <thead>\n",
       "    <tr style=\"text-align: right;\">\n",
       "      <th></th>\n",
       "      <th>lower_bound</th>\n",
       "      <th>upper_bound</th>\n",
       "      <th>value</th>\n",
       "    </tr>\n",
       "  </thead>\n",
       "  <tbody>\n",
       "    <tr>\n",
       "      <th>x_0</th>\n",
       "      <td>0.0</td>\n",
       "      <td>inf</td>\n",
       "      <td>0.0</td>\n",
       "    </tr>\n",
       "    <tr>\n",
       "      <th>x_1</th>\n",
       "      <td>1.0</td>\n",
       "      <td>inf</td>\n",
       "      <td>1.0</td>\n",
       "    </tr>\n",
       "    <tr>\n",
       "      <th>x_2</th>\n",
       "      <td>0.0</td>\n",
       "      <td>inf</td>\n",
       "      <td>0.0</td>\n",
       "    </tr>\n",
       "    <tr>\n",
       "      <th>x_3</th>\n",
       "      <td>-1.0</td>\n",
       "      <td>inf</td>\n",
       "      <td>-0.0</td>\n",
       "    </tr>\n",
       "    <tr>\n",
       "      <th>x_4</th>\n",
       "      <td>0.0</td>\n",
       "      <td>inf</td>\n",
       "      <td>0.0</td>\n",
       "    </tr>\n",
       "  </tbody>\n",
       "</table>\n",
       "</div>"
      ],
      "text/plain": [
       "     lower_bound  upper_bound  value\n",
       "x_0          0.0          inf    0.0\n",
       "x_1          1.0          inf    1.0\n",
       "x_2          0.0          inf    0.0\n",
       "x_3         -1.0          inf   -0.0\n",
       "x_4          0.0          inf    0.0"
      ]
     },
     "execution_count": 5,
     "metadata": {},
     "output_type": "execute_result"
    }
   ],
   "source": [
    "# With bounds\n",
    "res = minimize(\n",
    "    criterion=sphere,\n",
    "    params=params_with_bounds,\n",
    "    algorithm=\"scipy_ls_trf\",\n",
    "    derivative=sphere_gradient\n",
    ")\n",
    "res[\"solution_params\"].round(2)"
   ]
  },
  {
   "cell_type": "markdown",
   "metadata": {},
   "source": [
    "Now let's add constraints:"
   ]
  },
  {
   "cell_type": "code",
   "execution_count": 6,
   "metadata": {},
   "outputs": [
    {
     "data": {
      "text/html": [
       "<div>\n",
       "<style scoped>\n",
       "    .dataframe tbody tr th:only-of-type {\n",
       "        vertical-align: middle;\n",
       "    }\n",
       "\n",
       "    .dataframe tbody tr th {\n",
       "        vertical-align: top;\n",
       "    }\n",
       "\n",
       "    .dataframe thead th {\n",
       "        text-align: right;\n",
       "    }\n",
       "</style>\n",
       "<table border=\"1\" class=\"dataframe\">\n",
       "  <thead>\n",
       "    <tr style=\"text-align: right;\">\n",
       "      <th></th>\n",
       "      <th>lower_bound</th>\n",
       "      <th>upper_bound</th>\n",
       "      <th>value</th>\n",
       "    </tr>\n",
       "  </thead>\n",
       "  <tbody>\n",
       "    <tr>\n",
       "      <th>x_0</th>\n",
       "      <td>0.0</td>\n",
       "      <td>inf</td>\n",
       "      <td>1.0</td>\n",
       "    </tr>\n",
       "    <tr>\n",
       "      <th>x_1</th>\n",
       "      <td>1.0</td>\n",
       "      <td>inf</td>\n",
       "      <td>1.0</td>\n",
       "    </tr>\n",
       "    <tr>\n",
       "      <th>x_2</th>\n",
       "      <td>0.0</td>\n",
       "      <td>inf</td>\n",
       "      <td>0.0</td>\n",
       "    </tr>\n",
       "    <tr>\n",
       "      <th>x_3</th>\n",
       "      <td>-1.0</td>\n",
       "      <td>inf</td>\n",
       "      <td>4.0</td>\n",
       "    </tr>\n",
       "    <tr>\n",
       "      <th>x_4</th>\n",
       "      <td>0.0</td>\n",
       "      <td>inf</td>\n",
       "      <td>0.0</td>\n",
       "    </tr>\n",
       "  </tbody>\n",
       "</table>\n",
       "</div>"
      ],
      "text/plain": [
       "     lower_bound  upper_bound  value\n",
       "x_0          0.0          inf    1.0\n",
       "x_1          1.0          inf    1.0\n",
       "x_2          0.0          inf    0.0\n",
       "x_3         -1.0          inf    4.0\n",
       "x_4          0.0          inf    0.0"
      ]
     },
     "execution_count": 6,
     "metadata": {},
     "output_type": "execute_result"
    }
   ],
   "source": [
    "# With bounds and constraints\n",
    "constraints = [{\"loc\": [\"x_0\", \"x_3\"], \"type\": \"fixed\", \"value\": [1, 4]}]\n",
    "res = minimize(\n",
    "    criterion=sphere,\n",
    "    params=params_with_bounds,\n",
    "    algorithm=\"scipy_ls_trf\",\n",
    "    derivative=sphere_gradient,\n",
    "    constraints=constraints,\n",
    ")\n",
    "res[\"solution_params\"].round(2)"
   ]
  },
  {
   "cell_type": "markdown",
   "metadata": {},
   "source": [
    "### Supplying Arguments\n",
    "The included `scipy_ls_trf` optimizer takes arguments (see documentation).\n",
    "This example sets the method for solving trust-region subproblems `tr_solver` to `exact`. This solver is suitable for not very large problems with dense Jacobian matrices. The computational complexity per iteration is comparable to a singular value composition of the Jacobian matrix."
   ]
  },
  {
   "cell_type": "code",
   "execution_count": 7,
   "metadata": {},
   "outputs": [
    {
     "data": {
      "text/html": [
       "<div>\n",
       "<style scoped>\n",
       "    .dataframe tbody tr th:only-of-type {\n",
       "        vertical-align: middle;\n",
       "    }\n",
       "\n",
       "    .dataframe tbody tr th {\n",
       "        vertical-align: top;\n",
       "    }\n",
       "\n",
       "    .dataframe thead th {\n",
       "        text-align: right;\n",
       "    }\n",
       "</style>\n",
       "<table border=\"1\" class=\"dataframe\">\n",
       "  <thead>\n",
       "    <tr style=\"text-align: right;\">\n",
       "      <th></th>\n",
       "      <th>lower_bound</th>\n",
       "      <th>upper_bound</th>\n",
       "      <th>value</th>\n",
       "    </tr>\n",
       "  </thead>\n",
       "  <tbody>\n",
       "    <tr>\n",
       "      <th>x_0</th>\n",
       "      <td>-inf</td>\n",
       "      <td>inf</td>\n",
       "      <td>0.0</td>\n",
       "    </tr>\n",
       "    <tr>\n",
       "      <th>x_1</th>\n",
       "      <td>-inf</td>\n",
       "      <td>inf</td>\n",
       "      <td>0.0</td>\n",
       "    </tr>\n",
       "    <tr>\n",
       "      <th>x_2</th>\n",
       "      <td>-inf</td>\n",
       "      <td>inf</td>\n",
       "      <td>0.0</td>\n",
       "    </tr>\n",
       "    <tr>\n",
       "      <th>x_3</th>\n",
       "      <td>-inf</td>\n",
       "      <td>inf</td>\n",
       "      <td>0.0</td>\n",
       "    </tr>\n",
       "    <tr>\n",
       "      <th>x_4</th>\n",
       "      <td>-inf</td>\n",
       "      <td>inf</td>\n",
       "      <td>0.0</td>\n",
       "    </tr>\n",
       "  </tbody>\n",
       "</table>\n",
       "</div>"
      ],
      "text/plain": [
       "     lower_bound  upper_bound  value\n",
       "x_0         -inf          inf    0.0\n",
       "x_1         -inf          inf    0.0\n",
       "x_2         -inf          inf    0.0\n",
       "x_3         -inf          inf    0.0\n",
       "x_4         -inf          inf    0.0"
      ]
     },
     "execution_count": 7,
     "metadata": {},
     "output_type": "execute_result"
    }
   ],
   "source": [
    "# Use the exact trust region solver\n",
    "algo_options = {\n",
    "    'tr_solver': 'exact'\n",
    "}\n",
    "\n",
    "res = minimize(\n",
    "    criterion=sphere,\n",
    "    params=start_params,\n",
    "    algorithm=\"scipy_ls_trf\",\n",
    "    derivative=sphere_gradient,\n",
    "    algo_options=algo_options\n",
    ")\n",
    "res[\"solution_params\"].round(2)"
   ]
  },
  {
   "cell_type": "markdown",
   "metadata": {},
   "source": [
    "### 4.2. Rosenbrock Example\n",
    "To further illustrate the optimizers capabilities, I've also included the [Rosenbrock Example]((https://academic.oup.com/comjnl/article/3/3/175/345501) from the [scipy documentation](https://docs.scipy.org/doc/scipy/reference/generated/scipy.optimize.least_squares.html). In the current example, the `scipy_ls_trf` optimizer is showcased. In Section 5, a comparison with `scipy_ls_dogbox` and other optimizers from estimagic is presented.\n",
    "\n",
    "### The Rosenbrock Function\n",
    "In mathematical optimization, the Rosenbrock function is a non-convex function, introduced by Howard H. Rosenbrock in 1960, which is used as a performance test problem for optimization algorithms. It is also known as Rosenbrock's valley or Rosenbrock's banana function.\n",
    "It takes the form of:\n",
    "\\begin{align*}\n",
    "f(x,y) = (a-x)^2 + b(y-x^2)^2\n",
    "\\end{align*}\n",
    "The global minimum is inside a long, narrow, parabolic shaped flat valley. To find the valley is trivial. To converge to the global minimum, however, is difficult. It has a global minimum at $(x,y)=(a,a^{2})$, where $f(x,y)=0$. \n",
    "\n",
    "In the following example, I am taking $a = 1$ and $b=10$:"
   ]
  },
  {
   "cell_type": "code",
   "execution_count": 8,
   "metadata": {},
   "outputs": [],
   "source": [
    "def fun_rosenbrock(params):\n",
    "    x = params[\"value\"]\n",
    "    res = 10 * (x[1] - x[0]**2)**2 + (1 - x[0])**2\n",
    "    return {\n",
    "        \"value\": res,\n",
    "        \"root_contributions\": x\n",
    "    }\n",
    "\n",
    "\n",
    "def jac_rosenbrock(params):\n",
    "    x, y = params[\"value\"]\n",
    "    return [\n",
    "        2 * (20 * x**3 - 20 * x * y + x - 1), # diff. by x\n",
    "        20 * (y - x**2)  # diff. by y\n",
    "    ]"
   ]
  },
  {
   "cell_type": "markdown",
   "metadata": {},
   "source": [
    "Setting up start parameters:"
   ]
  },
  {
   "cell_type": "code",
   "execution_count": 9,
   "metadata": {},
   "outputs": [],
   "source": [
    "x0_rosenbrock = pd.DataFrame(\n",
    "    data=[2, 2],\n",
    "    columns=[\"value\"],\n",
    "    index=[f\"x_{i}\" for i in range(2)],\n",
    ")"
   ]
  },
  {
   "cell_type": "markdown",
   "metadata": {},
   "source": [
    "Optimize without bounds:"
   ]
  },
  {
   "cell_type": "code",
   "execution_count": 10,
   "metadata": {},
   "outputs": [
    {
     "data": {
      "text/html": [
       "<div>\n",
       "<style scoped>\n",
       "    .dataframe tbody tr th:only-of-type {\n",
       "        vertical-align: middle;\n",
       "    }\n",
       "\n",
       "    .dataframe tbody tr th {\n",
       "        vertical-align: top;\n",
       "    }\n",
       "\n",
       "    .dataframe thead th {\n",
       "        text-align: right;\n",
       "    }\n",
       "</style>\n",
       "<table border=\"1\" class=\"dataframe\">\n",
       "  <thead>\n",
       "    <tr style=\"text-align: right;\">\n",
       "      <th></th>\n",
       "      <th>lower_bound</th>\n",
       "      <th>upper_bound</th>\n",
       "      <th>value</th>\n",
       "    </tr>\n",
       "  </thead>\n",
       "  <tbody>\n",
       "    <tr>\n",
       "      <th>x_0</th>\n",
       "      <td>-inf</td>\n",
       "      <td>inf</td>\n",
       "      <td>1.0</td>\n",
       "    </tr>\n",
       "    <tr>\n",
       "      <th>x_1</th>\n",
       "      <td>-inf</td>\n",
       "      <td>inf</td>\n",
       "      <td>1.0</td>\n",
       "    </tr>\n",
       "  </tbody>\n",
       "</table>\n",
       "</div>"
      ],
      "text/plain": [
       "     lower_bound  upper_bound  value\n",
       "x_0         -inf          inf    1.0\n",
       "x_1         -inf          inf    1.0"
      ]
     },
     "execution_count": 10,
     "metadata": {},
     "output_type": "execute_result"
    }
   ],
   "source": [
    "# Without bounds\n",
    "res = minimize(\n",
    "    criterion=fun_rosenbrock,\n",
    "    params=x0_rosenbrock,\n",
    "    algorithm=\"scipy_ls_trf\",\n",
    "    derivative=jac_rosenbrock,\n",
    ")\n",
    "# Function has minima at (1, 1)\n",
    "res[\"solution_params\"].round(2)"
   ]
  },
  {
   "cell_type": "markdown",
   "metadata": {},
   "source": [
    "Optimize with bounds:"
   ]
  },
  {
   "cell_type": "code",
   "execution_count": 11,
   "metadata": {},
   "outputs": [
    {
     "data": {
      "text/html": [
       "<div>\n",
       "<style scoped>\n",
       "    .dataframe tbody tr th:only-of-type {\n",
       "        vertical-align: middle;\n",
       "    }\n",
       "\n",
       "    .dataframe tbody tr th {\n",
       "        vertical-align: top;\n",
       "    }\n",
       "\n",
       "    .dataframe thead th {\n",
       "        text-align: right;\n",
       "    }\n",
       "</style>\n",
       "<table border=\"1\" class=\"dataframe\">\n",
       "  <thead>\n",
       "    <tr style=\"text-align: right;\">\n",
       "      <th></th>\n",
       "      <th>lower_bound</th>\n",
       "      <th>upper_bound</th>\n",
       "      <th>value</th>\n",
       "    </tr>\n",
       "  </thead>\n",
       "  <tbody>\n",
       "    <tr>\n",
       "      <th>x_0</th>\n",
       "      <td>-inf</td>\n",
       "      <td>inf</td>\n",
       "      <td>1.22</td>\n",
       "    </tr>\n",
       "    <tr>\n",
       "      <th>x_1</th>\n",
       "      <td>1.5</td>\n",
       "      <td>inf</td>\n",
       "      <td>1.50</td>\n",
       "    </tr>\n",
       "  </tbody>\n",
       "</table>\n",
       "</div>"
      ],
      "text/plain": [
       "     lower_bound  upper_bound  value\n",
       "x_0         -inf          inf   1.22\n",
       "x_1          1.5          inf   1.50"
      ]
     },
     "execution_count": 11,
     "metadata": {},
     "output_type": "execute_result"
    }
   ],
   "source": [
    "# With bounds\n",
    "x0_rosenbrock[\"lower_bound\"] = [-np.inf, 1.5]\n",
    "x0_rosenbrock[\"upper_bound\"] = [np.inf] * 2\n",
    "res = minimize(\n",
    "    criterion=fun_rosenbrock,\n",
    "    params=x0_rosenbrock,\n",
    "    algorithm=\"scipy_ls_dogbox\",\n",
    "    derivative=jac_rosenbrock,\n",
    ")\n",
    "# Function has new solution that lies on the bound (1.22, 1.5)\n",
    "res[\"solution_params\"].round(2)"
   ]
  },
  {
   "cell_type": "markdown",
   "metadata": {},
   "source": [
    "## 5. Comparison\n",
    "A quick comparison will show the performance differences of the two new optimizers and other optimizers from estimagic, using the functions presented in Section 4."
   ]
  },
  {
   "cell_type": "code",
   "execution_count": 12,
   "metadata": {},
   "outputs": [],
   "source": [
    "from time import time\n",
    "import seaborn as sns"
   ]
  },
  {
   "cell_type": "markdown",
   "metadata": {},
   "source": [
    "Set up constraints:"
   ]
  },
  {
   "cell_type": "code",
   "execution_count": 13,
   "metadata": {},
   "outputs": [],
   "source": [
    "constraints = [{\"loc\": [\"x_0\", \"x_3\"], \"type\": \"fixed\", \"value\": [1, 4]}]"
   ]
  },
  {
   "cell_type": "markdown",
   "metadata": {},
   "source": [
    "### 5.1. Sphere Function\n",
    "Pick which optimizers to compare using the sphere function and record their times. In this specific example, since I am using parameters with bounds, I am comparing only optimizers that allow for bounds. Of course, the same exercise can be done without bounds (or constraints)."
   ]
  },
  {
   "cell_type": "code",
   "execution_count": 14,
   "metadata": {},
   "outputs": [],
   "source": [
    "# All internal optimizers: [\"scipy_ls_trf\", \"scipy_ls_dogbox\", \"scipy_slsqp\", \"scipy_lbfgsb\", \"scipy_neldermead\",\n",
    "# \"scipy_powell\", \"scipy_bfgs\", \"scipy_conjugate_gradient\", \"scipy_newton_cg\", \"scipy_cobyla\", \"scipy_truncated_newton\",\n",
    "# \"scipy_trust_constr\"]\n",
    "\n",
    "# Algorithms that allow for bounds:\n",
    "ALGORITHMS = [\"scipy_ls_trf\", \"scipy_ls_dogbox\", \"scipy_slsqp\", \"scipy_lbfgsb\", \"scipy_powell\",\n",
    "              \"scipy_bfgs\", \"scipy_truncated_newton\", \"scipy_trust_constr\"]\n",
    "res = {}\n",
    "times = {}\n",
    "for i in ALGORITHMS:\n",
    "    t0 = time()\n",
    "    res[i] = minimize(\n",
    "        criterion=sphere,\n",
    "        params=params_with_bounds,\n",
    "        algorithm=i,\n",
    "        derivative=sphere_gradient,\n",
    "        constraints=constraints,\n",
    "    )\n",
    "    # Record their times\n",
    "    times[i] = time() - t0"
   ]
  },
  {
   "cell_type": "markdown",
   "metadata": {},
   "source": [
    "Print the results to see if there is an algorithm that did not manage to find the minima. Note that the entire set of results can be printed. I just chose this particular format, as I used it in the examples in Section 4."
   ]
  },
  {
   "cell_type": "code",
   "execution_count": 2,
   "metadata": {
    "scrolled": false
   },
   "outputs": [
    {
     "ename": "NameError",
     "evalue": "name 'ALGORITHMS' is not defined",
     "output_type": "error",
     "traceback": [
      "\u001b[1;31m---------------------------------------------------------------------------\u001b[0m",
      "\u001b[1;31mNameError\u001b[0m                                 Traceback (most recent call last)",
      "\u001b[1;32m<ipython-input-2-208bab4d4c40>\u001b[0m in \u001b[0;36m<module>\u001b[1;34m()\u001b[0m\n\u001b[1;32m----> 1\u001b[1;33m \u001b[1;32mfor\u001b[0m \u001b[0mi\u001b[0m \u001b[1;32min\u001b[0m \u001b[0mALGORITHMS\u001b[0m\u001b[1;33m:\u001b[0m\u001b[1;33m\u001b[0m\u001b[0m\n\u001b[0m\u001b[0;32m      2\u001b[0m     \u001b[0mprint\u001b[0m\u001b[1;33m(\u001b[0m\u001b[0mres\u001b[0m\u001b[1;33m[\u001b[0m\u001b[0mi\u001b[0m\u001b[1;33m]\u001b[0m\u001b[1;33m[\u001b[0m\u001b[1;34m\"solution_params\"\u001b[0m\u001b[1;33m]\u001b[0m\u001b[1;33m.\u001b[0m\u001b[0mround\u001b[0m\u001b[1;33m(\u001b[0m\u001b[1;36m2\u001b[0m\u001b[1;33m)\u001b[0m\u001b[1;33m)\u001b[0m\u001b[1;33m\u001b[0m\u001b[0m\n",
      "\u001b[1;31mNameError\u001b[0m: name 'ALGORITHMS' is not defined"
     ]
    }
   ],
   "source": [
    "for i in ALGORITHMS:\n",
    "    print(res[i][\"solution_params\"].round(2))"
   ]
  },
  {
   "cell_type": "markdown",
   "metadata": {},
   "source": [
    "Let's see how the different algorithms performed with respect to time:"
   ]
  },
  {
   "cell_type": "code",
   "execution_count": 16,
   "metadata": {},
   "outputs": [
    {
     "name": "stdout",
     "output_type": "stream",
     "text": [
      "{'scipy_ls_trf': 0.168961763381958, 'scipy_ls_dogbox': 0.0716242790222168, 'scipy_slsqp': 0.06119370460510254, 'scipy_lbfgsb': 0.05652284622192383, 'scipy_powell': 2.1199593544006348, 'scipy_bfgs': 0.09941577911376953, 'scipy_truncated_newton': 0.13450074195861816, 'scipy_trust_constr': 0.27176785469055176}\n"
     ]
    }
   ],
   "source": [
    "print(times)"
   ]
  },
  {
   "cell_type": "markdown",
   "metadata": {},
   "source": [
    "Plot the results for clarity:"
   ]
  },
  {
   "cell_type": "code",
   "execution_count": 17,
   "metadata": {
    "scrolled": false
   },
   "outputs": [
    {
     "data": {
      "text/plain": [
       "[Text(0, 0, 'scipy_ls_trf'),\n",
       " Text(1, 0, 'scipy_ls_dogbox'),\n",
       " Text(2, 0, 'scipy_slsqp'),\n",
       " Text(3, 0, 'scipy_lbfgsb'),\n",
       " Text(4, 0, 'scipy_powell'),\n",
       " Text(5, 0, 'scipy_bfgs'),\n",
       " Text(6, 0, 'scipy_truncated_newton'),\n",
       " Text(7, 0, 'scipy_trust_constr')]"
      ]
     },
     "execution_count": 17,
     "metadata": {},
     "output_type": "execute_result"
    },
    {
     "data": {
      "image/png": "[encoded data removed]",
      "text/plain": [
       "<Figure size 432x288 with 1 Axes>"
      ]
     },
     "metadata": {
      "needs_background": "light"
     },
     "output_type": "display_data"
    }
   ],
   "source": [
    "res_data = []\n",
    "for i in ALGORITHMS:\n",
    "    res_data.append((i, times[i]))\n",
    "\n",
    "results = pd.DataFrame(\n",
    "        data=res_data,\n",
    "    columns=[\"Algorithm\", \"Time (s)\"]\n",
    ")\n",
    "_ = sns.barplot(x=\"Algorithm\", y=\"Time (s)\", data=results)\n",
    "_.set_xticklabels(_.get_xticklabels(), rotation=45)"
   ]
  },
  {
   "cell_type": "markdown",
   "metadata": {},
   "source": [
    "Now let's see how they did with respect to number of evaluations:"
   ]
  },
  {
   "cell_type": "code",
   "execution_count": 18,
   "metadata": {},
   "outputs": [
    {
     "data": {
      "text/plain": [
       "[Text(0, 0, 'scipy_ls_trf'),\n",
       " Text(1, 0, 'scipy_ls_dogbox'),\n",
       " Text(2, 0, 'scipy_slsqp'),\n",
       " Text(3, 0, 'scipy_lbfgsb'),\n",
       " Text(4, 0, 'scipy_powell'),\n",
       " Text(5, 0, 'scipy_bfgs'),\n",
       " Text(6, 0, 'scipy_truncated_newton'),\n",
       " Text(7, 0, 'scipy_trust_constr')]"
      ]
     },
     "execution_count": 18,
     "metadata": {},
     "output_type": "execute_result"
    },
    {
     "data": {
      "image/png": "[encoded data removed]",
      "text/plain": [
       "<Figure size 432x288 with 1 Axes>"
      ]
     },
     "metadata": {
      "needs_background": "light"
     },
     "output_type": "display_data"
    }
   ],
   "source": [
    "res_data = []\n",
    "for i in ALGORITHMS:\n",
    "    res_data.append((i, res[i]['n_criterion_evaluations']))\n",
    "\n",
    "results = pd.DataFrame(\n",
    "        data=res_data,\n",
    "    columns=[\"Algorithm\", \"Evaluations\"]\n",
    ")\n",
    "_ = sns.barplot(x=\"Algorithm\", y=\"Evaluations\", data=results)\n",
    "_.set_xticklabels(_.get_xticklabels(), rotation=45)"
   ]
  },
  {
   "cell_type": "markdown",
   "metadata": {},
   "source": [
    "Given a simple example function - like the sphere function - the new optimizers perform as well as or better than the existing optimizers in estimagic. \n",
    "\n",
    "The plots show that for a bounded problem with few variables, the `scipy_ls_dogbox` outperforms `scipy_ls_trf` both in terms of evalutaions and runtime. "
   ]
  },
  {
   "cell_type": "markdown",
   "metadata": {},
   "source": [
    "### 5.2. Rosenbrock Function\n",
    "I would like to compare the performance of the above algorithms using another function. Notice how easy it is to change the function, parameters and its derivative. The code allows for perspecitve users to pick the best optimizers for their needs by supplying the necessary arguments and selecting which algorithms to be compared."
   ]
  },
  {
   "cell_type": "code",
   "execution_count": 19,
   "metadata": {},
   "outputs": [],
   "source": [
    "ALGORITHMS = [\"scipy_ls_trf\", \"scipy_ls_dogbox\", \"scipy_slsqp\", \"scipy_lbfgsb\", \"scipy_powell\",\n",
    "              \"scipy_bfgs\", \"scipy_truncated_newton\", \"scipy_trust_constr\"]\n",
    "res = {}\n",
    "times = {}\n",
    "for i in ALGORITHMS:\n",
    "    t0 = time()\n",
    "    res[i] = minimize(\n",
    "        criterion=fun_rosenbrock,\n",
    "        params=x0_rosenbrock,\n",
    "        algorithm=i,\n",
    "        derivative=jac_rosenbrock,\n",
    "    )\n",
    "    # Record their times\n",
    "    times[i] = time() - t0"
   ]
  },
  {
   "cell_type": "markdown",
   "metadata": {},
   "source": [
    "Print the results to see if there is an algorithm that did not manage to find the minima. Note that the entire set of results can be printed. I just chose this particular format, as I used it in the examples in Section 4. The BFGS `scipy_bfgs` algorithm did not manage to find the minima within the given bounds."
   ]
  },
  {
   "cell_type": "code",
   "execution_count": 20,
   "metadata": {
    "scrolled": true
   },
   "outputs": [
    {
     "name": "stdout",
     "output_type": "stream",
     "text": [
      "     lower_bound  upper_bound  value\n",
      "x_0         -inf          inf   1.22\n",
      "x_1          1.5          inf   1.50\n",
      "     lower_bound  upper_bound  value\n",
      "x_0         -inf          inf   1.22\n",
      "x_1          1.5          inf   1.50\n",
      "     lower_bound  upper_bound  value\n",
      "x_0         -inf          inf   1.22\n",
      "x_1          1.5          inf   1.50\n",
      "     lower_bound  upper_bound  value\n",
      "x_0         -inf          inf   1.22\n",
      "x_1          1.5          inf   1.50\n",
      "     lower_bound  upper_bound  value\n",
      "x_0         -inf          inf   1.22\n",
      "x_1          1.5          inf   1.50\n",
      "     lower_bound  upper_bound  value\n",
      "x_0         -inf          inf    1.0\n",
      "x_1          1.5          inf    1.0\n",
      "     lower_bound  upper_bound  value\n",
      "x_0         -inf          inf   1.22\n",
      "x_1          1.5          inf   1.50\n",
      "     lower_bound  upper_bound  value\n",
      "x_0         -inf          inf   1.22\n",
      "x_1          1.5          inf   1.50\n"
     ]
    }
   ],
   "source": [
    "for i in ALGORITHMS:\n",
    "    print(res[i][\"solution_params\"].round(2))"
   ]
  },
  {
   "cell_type": "markdown",
   "metadata": {},
   "source": [
    "Let's see how the different algorithms performed with respect to time:"
   ]
  },
  {
   "cell_type": "code",
   "execution_count": 21,
   "metadata": {},
   "outputs": [
    {
     "name": "stdout",
     "output_type": "stream",
     "text": [
      "{'scipy_ls_trf': 78.39277768135071, 'scipy_ls_dogbox': 14.29269528388977, 'scipy_slsqp': 0.16037869453430176, 'scipy_lbfgsb': 0.1931929588317871, 'scipy_powell': 3.6261954307556152, 'scipy_bfgs': 0.26512646675109863, 'scipy_truncated_newton': 0.1861710548400879, 'scipy_trust_constr': 0.48113441467285156}\n"
     ]
    }
   ],
   "source": [
    "print(times)"
   ]
  },
  {
   "cell_type": "markdown",
   "metadata": {},
   "source": [
    "Plot the results for clarity:"
   ]
  },
  {
   "cell_type": "code",
   "execution_count": 22,
   "metadata": {
    "scrolled": false
   },
   "outputs": [
    {
     "data": {
      "text/plain": [
       "[Text(0, 0, 'scipy_ls_trf'),\n",
       " Text(1, 0, 'scipy_ls_dogbox'),\n",
       " Text(2, 0, 'scipy_slsqp'),\n",
       " Text(3, 0, 'scipy_lbfgsb'),\n",
       " Text(4, 0, 'scipy_powell'),\n",
       " Text(5, 0, 'scipy_bfgs'),\n",
       " Text(6, 0, 'scipy_truncated_newton'),\n",
       " Text(7, 0, 'scipy_trust_constr')]"
      ]
     },
     "execution_count": 22,
     "metadata": {},
     "output_type": "execute_result"
    },
    {
     "data": {
      "image/png": "[encoded data removed]",
      "text/plain": [
       "<Figure size 432x288 with 1 Axes>"
      ]
     },
     "metadata": {
      "needs_background": "light"
     },
     "output_type": "display_data"
    }
   ],
   "source": [
    "res_data = []\n",
    "for i in ALGORITHMS:\n",
    "    res_data.append((i, times[i]))\n",
    "\n",
    "results = pd.DataFrame(\n",
    "        data=res_data,\n",
    "    columns=[\"Algorithm\", \"Time (s)\"]\n",
    ")\n",
    "_ = sns.barplot(x=\"Algorithm\", y=\"Time (s)\", data=results)\n",
    "_.set_xticklabels(_.get_xticklabels(), rotation=45)"
   ]
  },
  {
   "cell_type": "markdown",
   "metadata": {},
   "source": [
    "Now let's see how they did with respect to number of evaluations:"
   ]
  },
  {
   "cell_type": "code",
   "execution_count": 23,
   "metadata": {},
   "outputs": [
    {
     "data": {
      "text/plain": [
       "[Text(0, 0, 'scipy_ls_trf'),\n",
       " Text(1, 0, 'scipy_ls_dogbox'),\n",
       " Text(2, 0, 'scipy_slsqp'),\n",
       " Text(3, 0, 'scipy_lbfgsb'),\n",
       " Text(4, 0, 'scipy_powell'),\n",
       " Text(5, 0, 'scipy_bfgs'),\n",
       " Text(6, 0, 'scipy_truncated_newton'),\n",
       " Text(7, 0, 'scipy_trust_constr')]"
      ]
     },
     "execution_count": 23,
     "metadata": {},
     "output_type": "execute_result"
    },
    {
     "data": {
      "image/png": "[encoded data removed]",
      "text/plain": [
       "<Figure size 432x288 with 1 Axes>"
      ]
     },
     "metadata": {
      "needs_background": "light"
     },
     "output_type": "display_data"
    }
   ],
   "source": [
    "res_data = []\n",
    "for i in ALGORITHMS:\n",
    "    res_data.append((i, res[i]['n_criterion_evaluations']))\n",
    "\n",
    "results = pd.DataFrame(\n",
    "        data=res_data,\n",
    "    columns=[\"Algorithm\", \"Evaluations\"]\n",
    ")\n",
    "_ = sns.barplot(x=\"Algorithm\", y=\"Evaluations\", data=results)\n",
    "_.set_xticklabels(_.get_xticklabels(), rotation=45)"
   ]
  },
  {
   "cell_type": "markdown",
   "metadata": {},
   "source": [
    "The plots show that for a bounded problem with few variables, the `scipy_ls_dogbox` outperforms `scipy_ls_trf` both in terms of evalutaions and runtime. However, both of them perform poorly relative to the other internal optimizers that were used in the comparison."
   ]
  },
  {
   "cell_type": "code",
   "execution_count": null,
   "metadata": {},
   "outputs": [],
   "source": []
  }
 ],
 "metadata": {
  "kernelspec": {
   "display_name": "Python 3",
   "language": "python",
   "name": "python3"
  },
  "language_info": {
   "codemirror_mode": {
    "name": "ipython",
    "version": 3
   },
   "file_extension": ".py",
   "mimetype": "text/x-python",
   "name": "python",
   "nbconvert_exporter": "python",
   "pygments_lexer": "ipython3",
   "version": "3.6.5"
  }
 },
 "nbformat": 4,
 "nbformat_minor": 5
}
