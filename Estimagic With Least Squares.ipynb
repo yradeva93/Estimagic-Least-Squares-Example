{
 "cells": [
  {
   "cell_type": "markdown",
   "metadata": {},
   "source": [
    "# Estimagic with SciPy's `least_squares`\n",
    "\n",
    "This is the accompanying documentation to the Pull Request adding the scipy [least_squares](https://docs.scipy.org/doc/scipy/reference/generated/scipy.optimize.least_squares.html) to [estimagic](https://github.com/OpenSourceEconomics/estimagic).\n",
    "\n"
   ]
  },
  {
   "cell_type": "markdown",
   "metadata": {},
   "source": [
    "## Estimagic\n",
    "[estimagic](https://github.com/OpenSourceEconomics/estimagic) is a Python package that provides tools for nonlinear optimization, numerical differentiation and statistical inference to fit large scale empirical models to data and make inferences about the estimated model parameters. It is well suited to solving difficult constrained optimization problems.\n",
    "\n",
    "The full documentation can be accessed [here](https://estimagic.readthedocs.io/en/latest/#).\n",
    "\n",
    "estimagic provides a large collection of [internal optimizers](https://estimagic.readthedocs.io/en/latest/explanations/optimization/internal_optimizers.html). In this project, I add three new algorithms from [scipy.optimize.least_squares](https://docs.scipy.org/doc/scipy/reference/generated/scipy.optimize.least_squares.html#r20fc1df64af7-stir)."
   ]
  },
  {
   "cell_type": "markdown",
   "metadata": {},
   "source": [
    "## Steps taken\n",
    "To include the optimizer, I conducted the following steps:\n",
    "\n",
    "1. Defined a new function `_scipy_least_squares`, where I specified all parameters and ran all the tests successfully.\n",
    "2. In order to keep the convention used in estimagic, I created three functions `scipy_ls_trf`, `scipy_ls_dogbox` and `scipy_ls_lm` corresponding to the three different algorithms used in `_scipy_least_squares` by calling it and soecifying the correct method argument. \n",
    "3. Fix the broken link `https://gitlab.com/petsc/petsc/-/tree/master/src/binding/petsc4py/`, so the documentation builds"
   ]
  },
  {
   "cell_type": "markdown",
   "metadata": {},
   "source": [
    "## Algorithms\n",
    "The `scipy.optimize.least_sqaures` solves a nonlinear least-squares problem with bounds on the variables. It uses three alrogithms, which are in turn added to estimagic:\n",
    "\n",
    "### 1. Trust Region Reflective `scipy_ls_trf`\n",
    "Ths method is motivated by the process of solving a system of equations, which constitute the first-order optimality condition for a bound-constrained minimization problem as formulated in (reference paper). The algorithm iteratively solves trust-region subproblems augmented by a special diagonal quadratic term and with trust-region shape determined by the distance from the bounds and the direction of the gradient. This enhancements help to avoid making steps directly into bounds and efficiently explore the whole space of variables. To further improve convergence, the algorithm considers search directions reflected from the bounds. To obey theoretical requirements, the algorithm keeps iterates strictly feasible. With dense Jacobians trust-region subproblems are solved by an exact method very similar to the one described in (reference another paper) (and implemented in MINPACK). The difference from the MINPACK implementation is that a singular value decomposition of a Jacobian matrix is done once per iteration, instead of a QR decomposition and series of Givens rotation eliminations. For large sparse Jacobians a 2-D subspace approach of solving trust-region subproblems is used (reference)]. The subspace is spanned by a scaled gradient and an approximate Gauss-Newton solution delivered by `scipy.sparse.linalg.lsmr`. When no constraints are imposed the algorithm is very similar to MINPACK and has generally comparable performance. The algorithm works quite robust in unbounded and bounded problems, thus it is chosen as a default algorithm.\n",
    "The documentation can be found here. \n",
    "\n",
    "### 2. DogBox `scipy_ls_dogbox`\n",
    "This method operates in a trust-region framework, but considers rectangular trust regions as opposed to conventional ellipsoids (reference the paper). The intersection of a current trust region and initial bounds is again rectangular, so on each iteration a quadratic minimization problem subject to bound constraints is solved approximately by Powell’s dogleg method (use reference). The required Gauss-Newton step can be computed exactly for dense Jacobians or approximately by `scipy.sparse.linalg.lsmr` for large sparse Jacobians. The algorithm is likely to exhibit slow convergence when the rank of Jacobian is less than the number of variables. The algorithm often outperforms `scipy_ls_trf` in bounded problems with a small number of variables.\n",
    "\n",
    "### 3. Levenberg-Marquardt `scipy_ls_lm`\n",
    "This method calls a wrapper over least-squares algorithms implemented in MINPACK (lmder, lmdif). It runs the Levenberg-Marquardt algorithm formulated as a trust-region type algorithm. The implementation is based on paper cite the paper, it is very robust and efficient with a lot of smart tricks. It should be your first choice for unconstrained problems. Note that it doesn’t support bounds. Also, it doesn’t work when m < n."
   ]
  },
  {
   "cell_type": "markdown",
   "metadata": {},
   "source": [
    "## Sphere Example\n",
    "To show that the optimizer works within estimagic, I've included the [Sphere Example](https://estimagic.readthedocs.io/en/latest/getting_started/first_optimization_with_estimagic.html) from the documentation.\n"
   ]
  },
  {
   "cell_type": "code",
   "execution_count": 1,
   "metadata": {},
   "outputs": [
    {
     "name": "stderr",
     "output_type": "stream",
     "text": [
      "/home/yana/PycharmProjects/estimagic/venv/lib/python3.9/site-packages/fuzzywuzzy/fuzz.py:11: UserWarning: Using slow pure-python SequenceMatcher. Install python-Levenshtein to remove this warning\n",
      "  warnings.warn('Using slow pure-python SequenceMatcher. Install python-Levenshtein to remove this warning')\n"
     ]
    }
   ],
   "source": [
    "import numpy as np\n",
    "import pandas as pd\n",
    "from estimagic import minimize\n",
    "from estimagic.logging.read_log import read_optimization_iteration"
   ]
  },
  {
   "cell_type": "code",
   "execution_count": 2,
   "metadata": {},
   "outputs": [],
   "source": [
    "def sphere(params):\n",
    "    \"\"\"Spherical criterion function.\n",
    "\n",
    "    The unique local and global optimum of this function is at\n",
    "    the zero vector. It is differentiable, convex and extremely\n",
    "    well behaved in any possible sense.\n",
    "\n",
    "    Args:\n",
    "        params (pandas.DataFrame): DataFrame with the columns\n",
    "            \"value\", \"lower_bound\", \"upper_bound\" and potentially more.\n",
    "\n",
    "    Returns:\n",
    "        dict: A dictionary with the entries \"value\" and \"root_contributions\".\n",
    "\n",
    "    \"\"\"\n",
    "    out = {\n",
    "        \"value\": (params[\"value\"] ** 2).sum(),\n",
    "        \"root_contributions\": params[\"value\"],\n",
    "    }\n",
    "    return out\n",
    "\n",
    "\n",
    "def sphere_gradient(params):\n",
    "    \"\"\"Gradient of spherical criterion function\"\"\"\n",
    "    return params[\"value\"] * 2"
   ]
  },
  {
   "cell_type": "code",
   "execution_count": 3,
   "metadata": {},
   "outputs": [],
   "source": [
    "start_params = pd.DataFrame(\n",
    "    data=np.arange(5) + 1,\n",
    "    columns=[\"value\"],\n",
    "    index=[f\"x_{i}\" for i in range(5)],\n",
    ")\n",
    "params_with_bounds = start_params.copy()\n",
    "\n",
    "params_with_bounds[\"lower_bound\"] = [0, 1, 0, -1, 0]\n",
    "params_with_bounds[\"upper_bound\"] = [np.inf] * 5\n"
   ]
  },
  {
   "cell_type": "code",
   "execution_count": 4,
   "metadata": {},
   "outputs": [
    {
     "data": {
      "text/html": [
       "<div>\n",
       "<style scoped>\n",
       "    .dataframe tbody tr th:only-of-type {\n",
       "        vertical-align: middle;\n",
       "    }\n",
       "\n",
       "    .dataframe tbody tr th {\n",
       "        vertical-align: top;\n",
       "    }\n",
       "\n",
       "    .dataframe thead th {\n",
       "        text-align: right;\n",
       "    }\n",
       "</style>\n",
       "<table border=\"1\" class=\"dataframe\">\n",
       "  <thead>\n",
       "    <tr style=\"text-align: right;\">\n",
       "      <th></th>\n",
       "      <th>lower_bound</th>\n",
       "      <th>upper_bound</th>\n",
       "      <th>value</th>\n",
       "    </tr>\n",
       "  </thead>\n",
       "  <tbody>\n",
       "    <tr>\n",
       "      <th>x_0</th>\n",
       "      <td>0.0</td>\n",
       "      <td>inf</td>\n",
       "      <td>0.0</td>\n",
       "    </tr>\n",
       "    <tr>\n",
       "      <th>x_1</th>\n",
       "      <td>1.0</td>\n",
       "      <td>inf</td>\n",
       "      <td>1.0</td>\n",
       "    </tr>\n",
       "    <tr>\n",
       "      <th>x_2</th>\n",
       "      <td>0.0</td>\n",
       "      <td>inf</td>\n",
       "      <td>0.0</td>\n",
       "    </tr>\n",
       "    <tr>\n",
       "      <th>x_3</th>\n",
       "      <td>-1.0</td>\n",
       "      <td>inf</td>\n",
       "      <td>-0.0</td>\n",
       "    </tr>\n",
       "    <tr>\n",
       "      <th>x_4</th>\n",
       "      <td>0.0</td>\n",
       "      <td>inf</td>\n",
       "      <td>0.0</td>\n",
       "    </tr>\n",
       "  </tbody>\n",
       "</table>\n",
       "</div>"
      ],
      "text/plain": [
       "     lower_bound  upper_bound  value\n",
       "x_0          0.0          inf    0.0\n",
       "x_1          1.0          inf    1.0\n",
       "x_2          0.0          inf    0.0\n",
       "x_3         -1.0          inf   -0.0\n",
       "x_4          0.0          inf    0.0"
      ]
     },
     "execution_count": 4,
     "metadata": {},
     "output_type": "execute_result"
    }
   ],
   "source": [
    "# With bounds\n",
    "res = minimize(\n",
    "    criterion=sphere,\n",
    "    params=params_with_bounds,\n",
    "    algorithm=\"scipy_least_squares\",\n",
    "    derivative=sphere_gradient\n",
    ")\n",
    "res[\"solution_params\"].round(2)"
   ]
  },
  {
   "cell_type": "code",
   "execution_count": 5,
   "metadata": {},
   "outputs": [
    {
     "data": {
      "text/html": [
       "<div>\n",
       "<style scoped>\n",
       "    .dataframe tbody tr th:only-of-type {\n",
       "        vertical-align: middle;\n",
       "    }\n",
       "\n",
       "    .dataframe tbody tr th {\n",
       "        vertical-align: top;\n",
       "    }\n",
       "\n",
       "    .dataframe thead th {\n",
       "        text-align: right;\n",
       "    }\n",
       "</style>\n",
       "<table border=\"1\" class=\"dataframe\">\n",
       "  <thead>\n",
       "    <tr style=\"text-align: right;\">\n",
       "      <th></th>\n",
       "      <th>lower_bound</th>\n",
       "      <th>upper_bound</th>\n",
       "      <th>value</th>\n",
       "    </tr>\n",
       "  </thead>\n",
       "  <tbody>\n",
       "    <tr>\n",
       "      <th>x_0</th>\n",
       "      <td>0.0</td>\n",
       "      <td>inf</td>\n",
       "      <td>1.0</td>\n",
       "    </tr>\n",
       "    <tr>\n",
       "      <th>x_1</th>\n",
       "      <td>1.0</td>\n",
       "      <td>inf</td>\n",
       "      <td>1.0</td>\n",
       "    </tr>\n",
       "    <tr>\n",
       "      <th>x_2</th>\n",
       "      <td>0.0</td>\n",
       "      <td>inf</td>\n",
       "      <td>0.0</td>\n",
       "    </tr>\n",
       "    <tr>\n",
       "      <th>x_3</th>\n",
       "      <td>-1.0</td>\n",
       "      <td>inf</td>\n",
       "      <td>4.0</td>\n",
       "    </tr>\n",
       "    <tr>\n",
       "      <th>x_4</th>\n",
       "      <td>0.0</td>\n",
       "      <td>inf</td>\n",
       "      <td>0.0</td>\n",
       "    </tr>\n",
       "  </tbody>\n",
       "</table>\n",
       "</div>"
      ],
      "text/plain": [
       "     lower_bound  upper_bound  value\n",
       "x_0          0.0          inf    1.0\n",
       "x_1          1.0          inf    1.0\n",
       "x_2          0.0          inf    0.0\n",
       "x_3         -1.0          inf    4.0\n",
       "x_4          0.0          inf    0.0"
      ]
     },
     "execution_count": 5,
     "metadata": {},
     "output_type": "execute_result"
    }
   ],
   "source": [
    "# With bounds and constraints\n",
    "constraints = [{\"loc\": [\"x_0\", \"x_3\"], \"type\": \"fixed\", \"value\": [1, 4]}]\n",
    "res = minimize(\n",
    "    criterion=sphere,\n",
    "    params=params_with_bounds,\n",
    "    algorithm=\"scipy_least_squares\",\n",
    "    derivative=sphere_gradient,\n",
    "    constraints=constraints,\n",
    ")\n",
    "res[\"solution_params\"].round(2)"
   ]
  },
  {
   "cell_type": "markdown",
   "metadata": {},
   "source": [
    "## Supplying Arguments\n",
    "The included `least_squares` optimizer takes arguments (see documentation).\n",
    "This example sets the internal algorithm to `dogbox`."
   ]
  },
  {
   "cell_type": "code",
   "execution_count": 6,
   "metadata": {},
   "outputs": [
    {
     "data": {
      "text/html": [
       "<div>\n",
       "<style scoped>\n",
       "    .dataframe tbody tr th:only-of-type {\n",
       "        vertical-align: middle;\n",
       "    }\n",
       "\n",
       "    .dataframe tbody tr th {\n",
       "        vertical-align: top;\n",
       "    }\n",
       "\n",
       "    .dataframe thead th {\n",
       "        text-align: right;\n",
       "    }\n",
       "</style>\n",
       "<table border=\"1\" class=\"dataframe\">\n",
       "  <thead>\n",
       "    <tr style=\"text-align: right;\">\n",
       "      <th></th>\n",
       "      <th>lower_bound</th>\n",
       "      <th>upper_bound</th>\n",
       "      <th>value</th>\n",
       "    </tr>\n",
       "  </thead>\n",
       "  <tbody>\n",
       "    <tr>\n",
       "      <th>x_0</th>\n",
       "      <td>-inf</td>\n",
       "      <td>inf</td>\n",
       "      <td>0.0</td>\n",
       "    </tr>\n",
       "    <tr>\n",
       "      <th>x_1</th>\n",
       "      <td>-inf</td>\n",
       "      <td>inf</td>\n",
       "      <td>0.0</td>\n",
       "    </tr>\n",
       "    <tr>\n",
       "      <th>x_2</th>\n",
       "      <td>-inf</td>\n",
       "      <td>inf</td>\n",
       "      <td>0.0</td>\n",
       "    </tr>\n",
       "    <tr>\n",
       "      <th>x_3</th>\n",
       "      <td>-inf</td>\n",
       "      <td>inf</td>\n",
       "      <td>0.0</td>\n",
       "    </tr>\n",
       "    <tr>\n",
       "      <th>x_4</th>\n",
       "      <td>-inf</td>\n",
       "      <td>inf</td>\n",
       "      <td>0.0</td>\n",
       "    </tr>\n",
       "  </tbody>\n",
       "</table>\n",
       "</div>"
      ],
      "text/plain": [
       "     lower_bound  upper_bound  value\n",
       "x_0         -inf          inf    0.0\n",
       "x_1         -inf          inf    0.0\n",
       "x_2         -inf          inf    0.0\n",
       "x_3         -inf          inf    0.0\n",
       "x_4         -inf          inf    0.0"
      ]
     },
     "execution_count": 6,
     "metadata": {},
     "output_type": "execute_result"
    }
   ],
   "source": [
    "# Use the dogbox algorithm instead of the default\n",
    "algo_options = {\n",
    "    'method': 'dogbox'\n",
    "}\n",
    "\n",
    "res = minimize(\n",
    "    criterion=sphere,\n",
    "    params=start_params,\n",
    "    algorithm=\"scipy_least_squares\",\n",
    "    derivative=sphere_gradient,\n",
    "    algo_options=algo_options\n",
    ")\n",
    "res[\"solution_params\"].round(2)"
   ]
  },
  {
   "cell_type": "markdown",
   "metadata": {},
   "source": [
    "## Rosenbrock Example\n",
    "To further illustrate the optimizers capabilities, I've also included the Rosenbrock example from the [scipy documentation](https://docs.scipy.org/doc/scipy/reference/generated/scipy.optimize.least_squares.html).\n",
    "\n",
    "### The Rosenbrock Function\n",
    "In mathematical optimization, the Rosenbrock function is a non-convex function, introduced by Howard H. Rosenbrock in 1960, which is used as a performance test problem for optimization algorithms. It is also known as Rosenbrock's valley or Rosenbrock's banana function. [[Rosenbrock]](https://academic.oup.com/comjnl/article/3/3/175/345501)"
   ]
  },
  {
   "cell_type": "code",
   "execution_count": 7,
   "metadata": {},
   "outputs": [],
   "source": [
    "def fun_rosenbrock(params):\n",
    "    x = params[\"value\"]\n",
    "    res = 10 * (x[1] - x[0]**2)**2 + (1 - x[0])**2\n",
    "    return {\n",
    "        \"value\": res,\n",
    "        \"root_contributions\": x\n",
    "    }\n",
    "def jac_rosenbrock(params):\n",
    "    x, y = params[\"value\"]\n",
    "    return [\n",
    "        2 * (20 * x**3 - 20 * x * y + x - 1), # diff. by x\n",
    "        20 * (y - x**2)  # diff. by y\n",
    "    ]"
   ]
  },
  {
   "cell_type": "code",
   "execution_count": 8,
   "metadata": {},
   "outputs": [],
   "source": [
    "x0_rosenbrock = pd.DataFrame(\n",
    "    data=[2, 2],\n",
    "    columns=[\"value\"],\n",
    "    index=[f\"x_{i}\" for i in range(2)],\n",
    ")"
   ]
  },
  {
   "cell_type": "code",
   "execution_count": 9,
   "metadata": {},
   "outputs": [
    {
     "data": {
      "text/html": [
       "<div>\n",
       "<style scoped>\n",
       "    .dataframe tbody tr th:only-of-type {\n",
       "        vertical-align: middle;\n",
       "    }\n",
       "\n",
       "    .dataframe tbody tr th {\n",
       "        vertical-align: top;\n",
       "    }\n",
       "\n",
       "    .dataframe thead th {\n",
       "        text-align: right;\n",
       "    }\n",
       "</style>\n",
       "<table border=\"1\" class=\"dataframe\">\n",
       "  <thead>\n",
       "    <tr style=\"text-align: right;\">\n",
       "      <th></th>\n",
       "      <th>lower_bound</th>\n",
       "      <th>upper_bound</th>\n",
       "      <th>value</th>\n",
       "    </tr>\n",
       "  </thead>\n",
       "  <tbody>\n",
       "    <tr>\n",
       "      <th>x_0</th>\n",
       "      <td>-inf</td>\n",
       "      <td>inf</td>\n",
       "      <td>1.0</td>\n",
       "    </tr>\n",
       "    <tr>\n",
       "      <th>x_1</th>\n",
       "      <td>-inf</td>\n",
       "      <td>inf</td>\n",
       "      <td>1.0</td>\n",
       "    </tr>\n",
       "  </tbody>\n",
       "</table>\n",
       "</div>"
      ],
      "text/plain": [
       "     lower_bound  upper_bound  value\n",
       "x_0         -inf          inf    1.0\n",
       "x_1         -inf          inf    1.0"
      ]
     },
     "execution_count": 9,
     "metadata": {},
     "output_type": "execute_result"
    }
   ],
   "source": [
    "# Without bounds\n",
    "res = minimize(\n",
    "    criterion=fun_rosenbrock,\n",
    "    params=x0_rosenbrock,\n",
    "    algorithm=\"scipy_least_squares\",\n",
    "    derivative=jac_rosenbrock,\n",
    ")\n",
    "# Function has minima at (1, 1)\n",
    "res[\"solution_params\"].round(2)"
   ]
  },
  {
   "cell_type": "code",
   "execution_count": null,
   "metadata": {},
   "outputs": [],
   "source": [
    "# With bounds\n",
    "x0_rosenbrock[\"lower_bound\"] = [-np.inf, 1.5]\n",
    "x0_rosenbrock[\"upper_bound\"] = [np.inf] * 2\n",
    "res = minimize(\n",
    "    criterion=fun_rosenbrock,\n",
    "    params=x0_rosenbrock,\n",
    "    algorithm=\"scipy_least_squares\",\n",
    "    derivative=jac_rosenbrock,\n",
    ")\n",
    "# Function has new solution that lies on the bound (1.22, 1.5)\n",
    "res[\"solution_params\"].round(2)"
   ]
  },
  {
   "cell_type": "code",
   "execution_count": null,
   "metadata": {},
   "outputs": [],
   "source": []
  }
 ],
 "metadata": {
  "kernelspec": {
   "display_name": "Python 3",
   "language": "python",
   "name": "python3"
  },
  "language_info": {
   "codemirror_mode": {
    "name": "ipython",
    "version": 3
   },
   "file_extension": ".py",
   "mimetype": "text/x-python",
   "name": "python",
   "nbconvert_exporter": "python",
   "pygments_lexer": "ipython3",
   "version": "3.6.5"
  }
 },
 "nbformat": 4,
 "nbformat_minor": 5
}
